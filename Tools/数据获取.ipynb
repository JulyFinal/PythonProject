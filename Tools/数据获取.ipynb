{
 "cells": [
  {
   "cell_type": "code",
   "execution_count": null,
   "metadata": {
    "collapsed": true
   },
   "outputs": [],
   "source": [
    "import gopup as gp\n",
    "\n",
    "# 微博指数\n",
    "# df_index = gp.weibo_index(word=\"马保国\", time_type=\"3month\")\n",
    "\n",
    "# print(df_index)\n",
    "\n",
    "# 百度指数\n",
    "# cookie = 'BIDUPSID=9572D927FBB4E252E93062E21F0B530E; PSTM=1585723377; BAIDUID=9572D927FBB4E2526E7FD2D164CCD93B:FG=1; BDUSS=pnZEN3d1duWncyWDBLWG9sSDNkZnY5RTJMeWpHSkZtd3NmV1U1cXdnVVc3cFJmSVFBQUFBJCQAAAAAAAAAAAEAAAC0uuwEODA2OTkwNzMyAAAAAAAAAAAAAAAAAAAAAAAAAAAAAAAAAAAAAAAAAAAAAAAAAAAAAAAAAAAAAAAAAAAAAAAAABZhbV8WYW1fdG; MCITY=-%3A; delPer=0; PSINO=5; ZD_ENTRY=baidu; H_PS_PSSID=1439_33242_32970_33286_32846_26350_33199_33240_33149_22160; BDSFRCVID=72COJexroG3SQbJrdMzEt87TkcpWxY5TDYLEOwXPsp3LGJLVJeC6EG0Pts1-dEu-EHtdogKK0gOTH6KF_2uxOjjg8UtVJeC6EG0Ptf8g0M5; BCLID=10916549168446505082; H_BDCLCKID_SF=tR3aQ5rtKRTffjrnhPF3jTDdXP6-hnjy3b7gbRoF-JbYJl5me5JxMPtQ3p7ktl3RymJ42-39LPO2hpRjyxv4y4Ldj4oxJpOJ-bCL0p5aHl51fbbvbURvD--g3-AqBM5dtjTO2bc_5KnlfMQ_bf--QfbQ0hOhqP-jBRIE3-oJqC8-MCDm3H; BA_HECTOR=04ala50l0l2h2485sb1ftgpf00q; Hm_lvt_d101ea4d2a5c67dab98251f0b5de24dc=1608017377; bdindexid=k7c57g3uj8tt5phue35vjpt2d2; Hm_lpvt_d101ea4d2a5c67dab98251f0b5de24dc=1608017392; RT=\"z=1&dm=baidu.com&si=aklp79x4ssl&ss=kipo10o4&sl=7&tt=4dd&bcn=https%3A%2F%2Ffclog.baidu.com%2Flog%2Fweirwood%3Ftype%3Dperf&ld=3lt9&ul=3m3o\"'\n",
    "# index_df = gp.baidu_search_index(word=\"马保国\", start_date='2020-09-15', end_date='2020-12-14', cookie=cookie)\n",
    "\n",
    "# print(index_df)\n",
    "\n",
    "# 头条指数\n",
    "# index_df = gp.toutiao_index(keyword=\"马保国\", start_date='20201115', end_date='20201125')\n",
    "# print(index_df)\n",
    "\n",
    "# 谷歌数据\n",
    "# index_df = gp.google_index(keyword=\"马保国\", start_date='2020-11-15T10', end_date='2020-11-25T23')\n",
    "# print(index_df)\n",
    "\n",
    "# 杠杆数据\n",
    "# df_index = gp.marco_cmlrd()\n",
    "# print(df_index)\n",
    "\n",
    "# 独角兽公司数据\n",
    "df_index = gp.nicorn_company()\n",
    "print(df_index)\n"
   ]
  }
 ],
 "metadata": {
  "kernelspec": {
   "display_name": "Python 3",
   "language": "python",
   "name": "python3"
  },
  "language_info": {
   "codemirror_mode": {
    "name": "ipython",
    "version": 2
   },
   "file_extension": ".py",
   "mimetype": "text/x-python",
   "name": "python",
   "nbconvert_exporter": "python",
   "pygments_lexer": "ipython2",
   "version": "2.7.6"
  }
 },
 "nbformat": 4,
 "nbformat_minor": 0
}