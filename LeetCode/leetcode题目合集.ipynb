{
 "cells": [
  {
   "cell_type": "code",
   "execution_count": null,
   "metadata": {
    "collapsed": true
   },
   "outputs": [],
   "source": [
    "arr = [1, 1, 2]\n",
    "\n",
    "\n",
    "def perm(arr, k=0):\n",
    "    m = len(arr)\n",
    "    all = []\n",
    "    if k == m:\n",
    "        if arr != []:\n",
    "            all.append(arr)\n",
    "    else:\n",
    "        for i in range(m):\n",
    "            arr[i], arr[k] = arr[k], arr[i]\n",
    "            perm(arr, k + 1)\n",
    "            arr[i], arr[k] = arr[k], arr[i]\n",
    "    nl =[]\n",
    "    for i in all:\n",
    "        if i != []:\n",
    "            nl.append(i)\n",
    "\n",
    "    print(nl)\n",
    "\n",
    "perm(arr)"
   ]
  },
  {
   "cell_type": "code",
   "execution_count": null,
   "outputs": [],
   "source": [],
   "metadata": {
    "collapsed": false,
    "pycharm": {
     "name": "#%%\n"
    }
   }
  }
 ],
 "metadata": {
  "kernelspec": {
   "display_name": "Python 3",
   "language": "python",
   "name": "python3"
  },
  "language_info": {
   "codemirror_mode": {
    "name": "ipython",
    "version": 2
   },
   "file_extension": ".py",
   "mimetype": "text/x-python",
   "name": "python",
   "nbconvert_exporter": "python",
   "pygments_lexer": "ipython2",
   "version": "2.7.6"
  }
 },
 "nbformat": 4,
 "nbformat_minor": 0
}