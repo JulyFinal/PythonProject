{
 "cells": [
  {
   "cell_type": "code",
   "execution_count": 6,
   "metadata": {
    "collapsed": true
   },
   "outputs": [
    {
     "name": "stdout",
     "output_type": "stream",
     "text": [
      "[[2, 1, 1]]\n",
      "[[1, 2, 1]]\n",
      "[[1, 1, 2]]\n",
      "[]\n",
      "[[2, 1, 1]]\n",
      "[[1, 2, 1]]\n",
      "[[1, 1, 2]]\n",
      "[]\n",
      "[[1, 2, 1]]\n",
      "[[1, 1, 2]]\n",
      "[[1, 2, 1]]\n",
      "[]\n",
      "[]\n",
      "[[2, 1, 1]]\n",
      "[[1, 2, 1]]\n",
      "[[1, 1, 2]]\n",
      "[]\n",
      "[[2, 1, 1]]\n",
      "[[1, 2, 1]]\n",
      "[[1, 1, 2]]\n",
      "[]\n",
      "[[1, 2, 1]]\n",
      "[[1, 1, 2]]\n",
      "[[1, 2, 1]]\n",
      "[]\n",
      "[]\n",
      "[[1, 2, 1]]\n",
      "[[1, 1, 2]]\n",
      "[[1, 2, 1]]\n",
      "[]\n",
      "[[1, 1, 2]]\n",
      "[[2, 1, 1]]\n",
      "[[2, 1, 1]]\n",
      "[]\n",
      "[[1, 1, 2]]\n",
      "[[2, 1, 1]]\n",
      "[[2, 1, 1]]\n",
      "[]\n",
      "[]\n",
      "[]\n"
     ]
    }
   ],
   "source": [
    "# 全排列\n",
    "arr = [1, 1, 2]\n",
    "\n",
    "def perm(arr, k=0):\n",
    "    m = len(arr)\n",
    "    all = []\n",
    "    if k == m:\n",
    "        if arr != []:\n",
    "            all.append(arr)\n",
    "    else:\n",
    "        for i in range(m):\n",
    "            arr[i], arr[k] = arr[k], arr[i]\n",
    "            perm(arr, k + 1)\n",
    "            arr[i], arr[k] = arr[k], arr[i]\n",
    "    nl =[]\n",
    "    for i in all:\n",
    "        if i != []:\n",
    "            nl.append(i)\n",
    "    print(nl)\n",
    "\n",
    "perm(arr)"
   ]
  },
  {
   "cell_type": "code",
   "execution_count": 5,
   "outputs": [
    {
     "data": {
      "text/plain": "[[2, 3, 5, 7]]"
     },
     "execution_count": 5,
     "metadata": {},
     "output_type": "execute_result"
    }
   ],
   "source": [
    "# get prime\n",
    "import math\n",
    "def func_get_prime(n):\n",
    "    return filter(lambda x: not [x % i for i in range(2, int(math.sqrt(x)) + 1) if x % i == 0], range(2, n + 1))\n",
    "\n",
    "result = [x for x in func_get_prime(10)]\n",
    "result"
   ],
   "metadata": {
    "collapsed": false,
    "pycharm": {
     "name": "#%%\n"
    }
   }
  }
 ],
 "metadata": {
  "kernelspec": {
   "name": "python3",
   "language": "python",
   "display_name": "Python 3"
  },
  "language_info": {
   "codemirror_mode": {
    "name": "ipython",
    "version": 2
   },
   "file_extension": ".py",
   "mimetype": "text/x-python",
   "name": "python",
   "nbconvert_exporter": "python",
   "pygments_lexer": "ipython2",
   "version": "2.7.6"
  }
 },
 "nbformat": 4,
 "nbformat_minor": 0
}