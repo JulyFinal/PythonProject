{
 "cells": [
  {
   "cell_type": "code",
   "execution_count": 1,
   "metadata": {
    "collapsed": true
   },
   "outputs": [],
   "source": [
    "import numpy as np\n",
    "\n",
    "import statsmodels.api as sm\n",
    "\n",
    "import statsmodels.formula.api as smf\n",
    "\n",
    "from patsy import dmatrices\n",
    "\n",
    "import pandas as pd\n",
    "\n",
    "import matplotlib.pyplot as plt\n",
    "import seaborn as sns"
   ]
  },
  {
   "cell_type": "code",
   "execution_count": 2,
   "outputs": [
    {
     "name": "stdout",
     "output_type": "stream",
     "text": [
      "                            OLS Regression Results                            \n",
      "==============================================================================\n",
      "Dep. Variable:                Lottery   R-squared:                       0.348\n",
      "Model:                            OLS   Adj. R-squared:                  0.333\n",
      "Method:                 Least Squares   F-statistic:                     22.20\n",
      "Date:                Mon, 08 Mar 2021   Prob (F-statistic):           1.90e-08\n",
      "Time:                        14:09:08   Log-Likelihood:                -379.82\n",
      "No. Observations:                  86   AIC:                             765.6\n",
      "Df Residuals:                      83   BIC:                             773.0\n",
      "Df Model:                           2                                         \n",
      "Covariance Type:            nonrobust                                         \n",
      "===================================================================================\n",
      "                      coef    std err          t      P>|t|      [0.025      0.975]\n",
      "-----------------------------------------------------------------------------------\n",
      "Intercept         246.4341     35.233      6.995      0.000     176.358     316.510\n",
      "Literacy           -0.4889      0.128     -3.832      0.000      -0.743      -0.235\n",
      "np.log(Pop1831)   -31.3114      5.977     -5.239      0.000     -43.199     -19.424\n",
      "==============================================================================\n",
      "Omnibus:                        3.713   Durbin-Watson:                   2.019\n",
      "Prob(Omnibus):                  0.156   Jarque-Bera (JB):                3.394\n",
      "Skew:                          -0.487   Prob(JB):                        0.183\n",
      "Kurtosis:                       3.003   Cond. No.                         702.\n",
      "==============================================================================\n",
      "\n",
      "Notes:\n",
      "[1] Standard Errors assume that the covariance matrix of the errors is correctly specified.\n"
     ]
    }
   ],
   "source": [
    "dat = pd.read_csv('../Data/statsData/Guerry.csv')\n",
    "\n",
    "results = smf.ols('Lottery ~ Literacy + np.log(Pop1831)', data=dat).fit()\n",
    "\n",
    "print(results.summary())"
   ],
   "metadata": {
    "collapsed": false,
    "pycharm": {
     "name": "#%%\n"
    }
   }
  },
  {
   "cell_type": "code",
   "execution_count": 3,
   "outputs": [
    {
     "name": "stdout",
     "output_type": "stream",
     "text": [
      "                            OLS Regression Results                            \n",
      "==============================================================================\n",
      "Dep. Variable:                      y   R-squared:                       0.193\n",
      "Model:                            OLS   Adj. R-squared:                  0.177\n",
      "Method:                 Least Squares   F-statistic:                     11.63\n",
      "Date:                Mon, 08 Mar 2021   Prob (F-statistic):           2.98e-05\n",
      "Time:                        14:09:08   Log-Likelihood:                -19.964\n",
      "No. Observations:                 100   AIC:                             45.93\n",
      "Df Residuals:                      97   BIC:                             53.74\n",
      "Df Model:                           2                                         \n",
      "Covariance Type:            nonrobust                                         \n",
      "==============================================================================\n",
      "                 coef    std err          t      P>|t|      [0.025      0.975]\n",
      "------------------------------------------------------------------------------\n",
      "const          1.5296      0.069     22.025      0.000       1.392       1.667\n",
      "x1            -0.0480      0.103     -0.468      0.641      -0.252       0.156\n",
      "x2             0.5335      0.111      4.822      0.000       0.314       0.753\n",
      "==============================================================================\n",
      "Omnibus:                       31.352   Durbin-Watson:                   2.008\n",
      "Prob(Omnibus):                  0.000   Jarque-Bera (JB):                6.242\n",
      "Skew:                           0.159   Prob(JB):                       0.0441\n",
      "Kurtosis:                       1.818   Cond. No.                         4.81\n",
      "==============================================================================\n",
      "\n",
      "Notes:\n",
      "[1] Standard Errors assume that the covariance matrix of the errors is correctly specified.\n"
     ]
    }
   ],
   "source": [
    "# Generate artificial data (2 regressors + constant)\n",
    "nobs = 100\n",
    "\n",
    "X = np.random.random((nobs, 2))\n",
    "\n",
    "X = sm.add_constant(X)\n",
    "\n",
    "beta = [1, .1, .5]\n",
    "\n",
    "e = np.random.random(nobs)\n",
    "\n",
    "y = np.dot(X, beta) + e\n",
    "\n",
    "# Fit regression model\n",
    "results = sm.OLS(y, X).fit()\n",
    "\n",
    "# Inspect the results\n",
    "print(results.summary())"
   ],
   "metadata": {
    "collapsed": false,
    "pycharm": {
     "name": "#%%\n"
    }
   }
  },
  {
   "cell_type": "code",
   "execution_count": 4,
   "outputs": [
    {
     "data": {
      "text/plain": "   Unnamed: 0  dept Region    Department  Crime_pers  Crime_prop  Literacy  \\\n0           1     1      E           Ain       28870       15890        37   \n1           2     2      N         Aisne       26226        5521        51   \n2           3     3      C        Allier       26747        7925        13   \n3           4     4      E  Basses-Alpes       12935        7289        46   \n4           5     5      E  Hautes-Alpes       17488        8174        69   \n\n   Donations  Infants  Suicides  ... Crime_parents  Infanticide  \\\n0       5098    33120     35039  ...            71           60   \n1       8901    14572     12831  ...             4           82   \n2      10973    17044    114121  ...            46           42   \n3       2733    23018     14238  ...            70           12   \n4       6962    23076     16171  ...            22           23   \n\n   Donation_clergy  Lottery  Desertion  Instruction  Prostitutes  Distance  \\\n0               69       41         55           46           13   218.372   \n1               36       38         82           24          327    65.945   \n2               76       66         16           85           34   161.927   \n3               37       80         32           29            2   351.399   \n4               64       79         35            7            1   320.280   \n\n   Area  Pop1831  \n0  5762   346.03  \n1  7369   513.00  \n2  7340   298.26  \n3  6925   155.90  \n4  5549   129.10  \n\n[5 rows x 24 columns]",
      "text/html": "<div>\n<style scoped>\n    .dataframe tbody tr th:only-of-type {\n        vertical-align: middle;\n    }\n\n    .dataframe tbody tr th {\n        vertical-align: top;\n    }\n\n    .dataframe thead th {\n        text-align: right;\n    }\n</style>\n<table border=\"1\" class=\"dataframe\">\n  <thead>\n    <tr style=\"text-align: right;\">\n      <th></th>\n      <th>Unnamed: 0</th>\n      <th>dept</th>\n      <th>Region</th>\n      <th>Department</th>\n      <th>Crime_pers</th>\n      <th>Crime_prop</th>\n      <th>Literacy</th>\n      <th>Donations</th>\n      <th>Infants</th>\n      <th>Suicides</th>\n      <th>...</th>\n      <th>Crime_parents</th>\n      <th>Infanticide</th>\n      <th>Donation_clergy</th>\n      <th>Lottery</th>\n      <th>Desertion</th>\n      <th>Instruction</th>\n      <th>Prostitutes</th>\n      <th>Distance</th>\n      <th>Area</th>\n      <th>Pop1831</th>\n    </tr>\n  </thead>\n  <tbody>\n    <tr>\n      <th>0</th>\n      <td>1</td>\n      <td>1</td>\n      <td>E</td>\n      <td>Ain</td>\n      <td>28870</td>\n      <td>15890</td>\n      <td>37</td>\n      <td>5098</td>\n      <td>33120</td>\n      <td>35039</td>\n      <td>...</td>\n      <td>71</td>\n      <td>60</td>\n      <td>69</td>\n      <td>41</td>\n      <td>55</td>\n      <td>46</td>\n      <td>13</td>\n      <td>218.372</td>\n      <td>5762</td>\n      <td>346.03</td>\n    </tr>\n    <tr>\n      <th>1</th>\n      <td>2</td>\n      <td>2</td>\n      <td>N</td>\n      <td>Aisne</td>\n      <td>26226</td>\n      <td>5521</td>\n      <td>51</td>\n      <td>8901</td>\n      <td>14572</td>\n      <td>12831</td>\n      <td>...</td>\n      <td>4</td>\n      <td>82</td>\n      <td>36</td>\n      <td>38</td>\n      <td>82</td>\n      <td>24</td>\n      <td>327</td>\n      <td>65.945</td>\n      <td>7369</td>\n      <td>513.00</td>\n    </tr>\n    <tr>\n      <th>2</th>\n      <td>3</td>\n      <td>3</td>\n      <td>C</td>\n      <td>Allier</td>\n      <td>26747</td>\n      <td>7925</td>\n      <td>13</td>\n      <td>10973</td>\n      <td>17044</td>\n      <td>114121</td>\n      <td>...</td>\n      <td>46</td>\n      <td>42</td>\n      <td>76</td>\n      <td>66</td>\n      <td>16</td>\n      <td>85</td>\n      <td>34</td>\n      <td>161.927</td>\n      <td>7340</td>\n      <td>298.26</td>\n    </tr>\n    <tr>\n      <th>3</th>\n      <td>4</td>\n      <td>4</td>\n      <td>E</td>\n      <td>Basses-Alpes</td>\n      <td>12935</td>\n      <td>7289</td>\n      <td>46</td>\n      <td>2733</td>\n      <td>23018</td>\n      <td>14238</td>\n      <td>...</td>\n      <td>70</td>\n      <td>12</td>\n      <td>37</td>\n      <td>80</td>\n      <td>32</td>\n      <td>29</td>\n      <td>2</td>\n      <td>351.399</td>\n      <td>6925</td>\n      <td>155.90</td>\n    </tr>\n    <tr>\n      <th>4</th>\n      <td>5</td>\n      <td>5</td>\n      <td>E</td>\n      <td>Hautes-Alpes</td>\n      <td>17488</td>\n      <td>8174</td>\n      <td>69</td>\n      <td>6962</td>\n      <td>23076</td>\n      <td>16171</td>\n      <td>...</td>\n      <td>22</td>\n      <td>23</td>\n      <td>64</td>\n      <td>79</td>\n      <td>35</td>\n      <td>7</td>\n      <td>1</td>\n      <td>320.280</td>\n      <td>5549</td>\n      <td>129.10</td>\n    </tr>\n  </tbody>\n</table>\n<p>5 rows × 24 columns</p>\n</div>"
     },
     "execution_count": 4,
     "metadata": {},
     "output_type": "execute_result"
    }
   ],
   "source": [
    "dat.head()"
   ],
   "metadata": {
    "collapsed": false,
    "pycharm": {
     "name": "#%%\n"
    }
   }
  },
  {
   "cell_type": "code",
   "execution_count": 5,
   "outputs": [
    {
     "name": "stdout",
     "output_type": "stream",
     "text": [
      "<class 'pandas.core.frame.DataFrame'>\n",
      "RangeIndex: 86 entries, 0 to 85\n",
      "Data columns (total 24 columns):\n",
      " #   Column           Non-Null Count  Dtype  \n",
      "---  ------           --------------  -----  \n",
      " 0   Unnamed: 0       86 non-null     int64  \n",
      " 1   dept             86 non-null     int64  \n",
      " 2   Region           85 non-null     object \n",
      " 3   Department       86 non-null     object \n",
      " 4   Crime_pers       86 non-null     int64  \n",
      " 5   Crime_prop       86 non-null     int64  \n",
      " 6   Literacy         86 non-null     int64  \n",
      " 7   Donations        86 non-null     int64  \n",
      " 8   Infants          86 non-null     int64  \n",
      " 9   Suicides         86 non-null     int64  \n",
      " 10  MainCity         86 non-null     object \n",
      " 11  Wealth           86 non-null     int64  \n",
      " 12  Commerce         86 non-null     int64  \n",
      " 13  Clergy           86 non-null     int64  \n",
      " 14  Crime_parents    86 non-null     int64  \n",
      " 15  Infanticide      86 non-null     int64  \n",
      " 16  Donation_clergy  86 non-null     int64  \n",
      " 17  Lottery          86 non-null     int64  \n",
      " 18  Desertion        86 non-null     int64  \n",
      " 19  Instruction      86 non-null     int64  \n",
      " 20  Prostitutes      86 non-null     int64  \n",
      " 21  Distance         86 non-null     float64\n",
      " 22  Area             86 non-null     int64  \n",
      " 23  Pop1831          86 non-null     float64\n",
      "dtypes: float64(2), int64(19), object(3)\n",
      "memory usage: 16.2+ KB\n"
     ]
    }
   ],
   "source": [
    "dat.info()"
   ],
   "metadata": {
    "collapsed": false,
    "pycharm": {
     "name": "#%%\n"
    }
   }
  },
  {
   "cell_type": "code",
   "execution_count": 6,
   "outputs": [
    {
     "name": "stdout",
     "output_type": "stream",
     "text": [
      "<class 'pandas.core.frame.DataFrame'>\n",
      "Int64Index: 85 entries, 0 to 84\n",
      "Data columns (total 24 columns):\n",
      " #   Column           Non-Null Count  Dtype  \n",
      "---  ------           --------------  -----  \n",
      " 0   Unnamed: 0       85 non-null     int64  \n",
      " 1   dept             85 non-null     int64  \n",
      " 2   Region           85 non-null     object \n",
      " 3   Department       85 non-null     object \n",
      " 4   Crime_pers       85 non-null     int64  \n",
      " 5   Crime_prop       85 non-null     int64  \n",
      " 6   Literacy         85 non-null     int64  \n",
      " 7   Donations        85 non-null     int64  \n",
      " 8   Infants          85 non-null     int64  \n",
      " 9   Suicides         85 non-null     int64  \n",
      " 10  MainCity         85 non-null     object \n",
      " 11  Wealth           85 non-null     int64  \n",
      " 12  Commerce         85 non-null     int64  \n",
      " 13  Clergy           85 non-null     int64  \n",
      " 14  Crime_parents    85 non-null     int64  \n",
      " 15  Infanticide      85 non-null     int64  \n",
      " 16  Donation_clergy  85 non-null     int64  \n",
      " 17  Lottery          85 non-null     int64  \n",
      " 18  Desertion        85 non-null     int64  \n",
      " 19  Instruction      85 non-null     int64  \n",
      " 20  Prostitutes      85 non-null     int64  \n",
      " 21  Distance         85 non-null     float64\n",
      " 22  Area             85 non-null     int64  \n",
      " 23  Pop1831          85 non-null     float64\n",
      "dtypes: float64(2), int64(19), object(3)\n",
      "memory usage: 16.6+ KB\n"
     ]
    }
   ],
   "source": [
    "dat = dat.dropna()\n",
    "dat.info()"
   ],
   "metadata": {
    "collapsed": false,
    "pycharm": {
     "name": "#%%\n"
    }
   }
  },
  {
   "cell_type": "code",
   "execution_count": 7,
   "outputs": [
    {
     "data": {
      "text/plain": "   Lottery\n0     41.0\n1     38.0\n2     66.0",
      "text/html": "<div>\n<style scoped>\n    .dataframe tbody tr th:only-of-type {\n        vertical-align: middle;\n    }\n\n    .dataframe tbody tr th {\n        vertical-align: top;\n    }\n\n    .dataframe thead th {\n        text-align: right;\n    }\n</style>\n<table border=\"1\" class=\"dataframe\">\n  <thead>\n    <tr style=\"text-align: right;\">\n      <th></th>\n      <th>Lottery</th>\n    </tr>\n  </thead>\n  <tbody>\n    <tr>\n      <th>0</th>\n      <td>41.0</td>\n    </tr>\n    <tr>\n      <th>1</th>\n      <td>38.0</td>\n    </tr>\n    <tr>\n      <th>2</th>\n      <td>66.0</td>\n    </tr>\n  </tbody>\n</table>\n</div>"
     },
     "execution_count": 7,
     "metadata": {},
     "output_type": "execute_result"
    }
   ],
   "source": [
    "y, X = dmatrices('Lottery ~ Literacy + Wealth + Region', data=dat, return_type='dataframe')\n",
    "y[:3]"
   ],
   "metadata": {
    "collapsed": false,
    "pycharm": {
     "name": "#%%\n"
    }
   }
  },
  {
   "cell_type": "code",
   "execution_count": 8,
   "outputs": [
    {
     "data": {
      "text/plain": "   Intercept  Region[T.E]  Region[T.N]  Region[T.S]  Region[T.W]  Literacy  \\\n0        1.0          1.0          0.0          0.0          0.0      37.0   \n1        1.0          0.0          1.0          0.0          0.0      51.0   \n2        1.0          0.0          0.0          0.0          0.0      13.0   \n\n   Wealth  \n0    73.0  \n1    22.0  \n2    61.0  ",
      "text/html": "<div>\n<style scoped>\n    .dataframe tbody tr th:only-of-type {\n        vertical-align: middle;\n    }\n\n    .dataframe tbody tr th {\n        vertical-align: top;\n    }\n\n    .dataframe thead th {\n        text-align: right;\n    }\n</style>\n<table border=\"1\" class=\"dataframe\">\n  <thead>\n    <tr style=\"text-align: right;\">\n      <th></th>\n      <th>Intercept</th>\n      <th>Region[T.E]</th>\n      <th>Region[T.N]</th>\n      <th>Region[T.S]</th>\n      <th>Region[T.W]</th>\n      <th>Literacy</th>\n      <th>Wealth</th>\n    </tr>\n  </thead>\n  <tbody>\n    <tr>\n      <th>0</th>\n      <td>1.0</td>\n      <td>1.0</td>\n      <td>0.0</td>\n      <td>0.0</td>\n      <td>0.0</td>\n      <td>37.0</td>\n      <td>73.0</td>\n    </tr>\n    <tr>\n      <th>1</th>\n      <td>1.0</td>\n      <td>0.0</td>\n      <td>1.0</td>\n      <td>0.0</td>\n      <td>0.0</td>\n      <td>51.0</td>\n      <td>22.0</td>\n    </tr>\n    <tr>\n      <th>2</th>\n      <td>1.0</td>\n      <td>0.0</td>\n      <td>0.0</td>\n      <td>0.0</td>\n      <td>0.0</td>\n      <td>13.0</td>\n      <td>61.0</td>\n    </tr>\n  </tbody>\n</table>\n</div>"
     },
     "execution_count": 8,
     "metadata": {},
     "output_type": "execute_result"
    }
   ],
   "source": [
    "X[:3]"
   ],
   "metadata": {
    "collapsed": false,
    "pycharm": {
     "name": "#%%\n"
    }
   }
  },
  {
   "cell_type": "code",
   "execution_count": 9,
   "outputs": [
    {
     "data": {
      "text/plain": "<class 'statsmodels.iolib.summary.Summary'>\n\"\"\"\n                            OLS Regression Results                            \n==============================================================================\nDep. Variable:                Lottery   R-squared:                       0.338\nModel:                            OLS   Adj. R-squared:                  0.287\nMethod:                 Least Squares   F-statistic:                     6.636\nDate:                Mon, 08 Mar 2021   Prob (F-statistic):           1.07e-05\nTime:                        14:09:09   Log-Likelihood:                -375.30\nNo. Observations:                  85   AIC:                             764.6\nDf Residuals:                      78   BIC:                             781.7\nDf Model:                           6                                         \nCovariance Type:            nonrobust                                         \n===============================================================================\n                  coef    std err          t      P>|t|      [0.025      0.975]\n-------------------------------------------------------------------------------\nIntercept      38.6517      9.456      4.087      0.000      19.826      57.478\nRegion[T.E]   -15.4278      9.727     -1.586      0.117     -34.793       3.938\nRegion[T.N]   -10.0170      9.260     -1.082      0.283     -28.453       8.419\nRegion[T.S]    -4.5483      7.279     -0.625      0.534     -19.039       9.943\nRegion[T.W]   -10.0913      7.196     -1.402      0.165     -24.418       4.235\nLiteracy       -0.1858      0.210     -0.886      0.378      -0.603       0.232\nWealth          0.4515      0.103      4.390      0.000       0.247       0.656\n==============================================================================\nOmnibus:                        3.049   Durbin-Watson:                   1.785\nProb(Omnibus):                  0.218   Jarque-Bera (JB):                2.694\nSkew:                          -0.340   Prob(JB):                        0.260\nKurtosis:                       2.454   Cond. No.                         371.\n==============================================================================\n\nNotes:\n[1] Standard Errors assume that the covariance matrix of the errors is correctly specified.\n\"\"\"",
      "text/html": "<table class=\"simpletable\">\n<caption>OLS Regression Results</caption>\n<tr>\n  <th>Dep. Variable:</th>         <td>Lottery</td>     <th>  R-squared:         </th> <td>   0.338</td>\n</tr>\n<tr>\n  <th>Model:</th>                   <td>OLS</td>       <th>  Adj. R-squared:    </th> <td>   0.287</td>\n</tr>\n<tr>\n  <th>Method:</th>             <td>Least Squares</td>  <th>  F-statistic:       </th> <td>   6.636</td>\n</tr>\n<tr>\n  <th>Date:</th>             <td>Mon, 08 Mar 2021</td> <th>  Prob (F-statistic):</th> <td>1.07e-05</td>\n</tr>\n<tr>\n  <th>Time:</th>                 <td>14:09:09</td>     <th>  Log-Likelihood:    </th> <td> -375.30</td>\n</tr>\n<tr>\n  <th>No. Observations:</th>      <td>    85</td>      <th>  AIC:               </th> <td>   764.6</td>\n</tr>\n<tr>\n  <th>Df Residuals:</th>          <td>    78</td>      <th>  BIC:               </th> <td>   781.7</td>\n</tr>\n<tr>\n  <th>Df Model:</th>              <td>     6</td>      <th>                     </th>     <td> </td>   \n</tr>\n<tr>\n  <th>Covariance Type:</th>      <td>nonrobust</td>    <th>                     </th>     <td> </td>   \n</tr>\n</table>\n<table class=\"simpletable\">\n<tr>\n       <td></td>          <th>coef</th>     <th>std err</th>      <th>t</th>      <th>P>|t|</th>  <th>[0.025</th>    <th>0.975]</th>  \n</tr>\n<tr>\n  <th>Intercept</th>   <td>   38.6517</td> <td>    9.456</td> <td>    4.087</td> <td> 0.000</td> <td>   19.826</td> <td>   57.478</td>\n</tr>\n<tr>\n  <th>Region[T.E]</th> <td>  -15.4278</td> <td>    9.727</td> <td>   -1.586</td> <td> 0.117</td> <td>  -34.793</td> <td>    3.938</td>\n</tr>\n<tr>\n  <th>Region[T.N]</th> <td>  -10.0170</td> <td>    9.260</td> <td>   -1.082</td> <td> 0.283</td> <td>  -28.453</td> <td>    8.419</td>\n</tr>\n<tr>\n  <th>Region[T.S]</th> <td>   -4.5483</td> <td>    7.279</td> <td>   -0.625</td> <td> 0.534</td> <td>  -19.039</td> <td>    9.943</td>\n</tr>\n<tr>\n  <th>Region[T.W]</th> <td>  -10.0913</td> <td>    7.196</td> <td>   -1.402</td> <td> 0.165</td> <td>  -24.418</td> <td>    4.235</td>\n</tr>\n<tr>\n  <th>Literacy</th>    <td>   -0.1858</td> <td>    0.210</td> <td>   -0.886</td> <td> 0.378</td> <td>   -0.603</td> <td>    0.232</td>\n</tr>\n<tr>\n  <th>Wealth</th>      <td>    0.4515</td> <td>    0.103</td> <td>    4.390</td> <td> 0.000</td> <td>    0.247</td> <td>    0.656</td>\n</tr>\n</table>\n<table class=\"simpletable\">\n<tr>\n  <th>Omnibus:</th>       <td> 3.049</td> <th>  Durbin-Watson:     </th> <td>   1.785</td>\n</tr>\n<tr>\n  <th>Prob(Omnibus):</th> <td> 0.218</td> <th>  Jarque-Bera (JB):  </th> <td>   2.694</td>\n</tr>\n<tr>\n  <th>Skew:</th>          <td>-0.340</td> <th>  Prob(JB):          </th> <td>   0.260</td>\n</tr>\n<tr>\n  <th>Kurtosis:</th>      <td> 2.454</td> <th>  Cond. No.          </th> <td>    371.</td>\n</tr>\n</table><br/><br/>Notes:<br/>[1] Standard Errors assume that the covariance matrix of the errors is correctly specified."
     },
     "execution_count": 9,
     "metadata": {},
     "output_type": "execute_result"
    }
   ],
   "source": [
    "mod = sm.OLS(y,X)\n",
    "res = mod.fit()\n",
    "res.summary()"
   ],
   "metadata": {
    "collapsed": false,
    "pycharm": {
     "name": "#%%\n"
    }
   }
  },
  {
   "cell_type": "code",
   "execution_count": 10,
   "outputs": [
    {
     "data": {
      "text/plain": "Intercept      38.651655\nRegion[T.E]   -15.427785\nRegion[T.N]   -10.016961\nRegion[T.S]    -4.548257\nRegion[T.W]   -10.091276\nLiteracy       -0.185819\nWealth          0.451475\ndtype: float64"
     },
     "execution_count": 10,
     "metadata": {},
     "output_type": "execute_result"
    }
   ],
   "source": [
    "res.params\n"
   ],
   "metadata": {
    "collapsed": false,
    "pycharm": {
     "name": "#%%\n"
    }
   }
  },
  {
   "cell_type": "code",
   "execution_count": 11,
   "outputs": [
    {
     "data": {
      "text/plain": "(0.8472339976156913, 0.6997965543621643)"
     },
     "execution_count": 11,
     "metadata": {},
     "output_type": "execute_result"
    }
   ],
   "source": [
    "sm.stats.linear_rainbow(res)"
   ],
   "metadata": {
    "collapsed": false,
    "pycharm": {
     "name": "#%%\n"
    }
   }
  },
  {
   "cell_type": "code",
   "execution_count": 12,
   "outputs": [
    {
     "data": {
      "text/plain": "<Figure size 432x288 with 1 Axes>",
      "image/png": "[encoded data removed]"
     },
     "execution_count": 12,
     "metadata": {},
     "output_type": "execute_result"
    },
    {
     "data": {
      "text/plain": "<Figure size 432x288 with 1 Axes>",
      "image/png": "[encoded data removed]"
     },
     "metadata": {
      "needs_background": "light"
     },
     "output_type": "display_data"
    }
   ],
   "source": [
    "sm.graphics.plot_partregress('Lottery', 'Wealth', ['Region', 'Literacy'], data=dat, obs_labels=False)"
   ],
   "metadata": {
    "collapsed": false,
    "pycharm": {
     "name": "#%%\n"
    }
   }
  },
  {
   "cell_type": "code",
   "execution_count": 13,
   "outputs": [
    {
     "data": {
      "text/plain": "0.337950869192882"
     },
     "execution_count": 13,
     "metadata": {},
     "output_type": "execute_result"
    }
   ],
   "source": [
    "res.rsquared\n"
   ],
   "metadata": {
    "collapsed": false,
    "pycharm": {
     "name": "#%%\n"
    }
   }
  },
  {
   "cell_type": "code",
   "execution_count": 14,
   "outputs": [
    {
     "data": {
      "text/plain": "Intercept      4.087379\nRegion[T.E]   -1.586030\nRegion[T.N]   -1.081713\nRegion[T.S]   -0.624857\nRegion[T.W]   -1.402324\nLiteracy      -0.885712\nWealth         4.389851\ndtype: float64"
     },
     "execution_count": 14,
     "metadata": {},
     "output_type": "execute_result"
    }
   ],
   "source": [
    "res.tvalues"
   ],
   "metadata": {
    "collapsed": false,
    "pycharm": {
     "name": "#%%\n"
    }
   }
  },
  {
   "cell_type": "code",
   "execution_count": 15,
   "outputs": [],
   "source": [
    "# 构造变量\n",
    "number=20\n",
    "x=np.linspace(0,10,number) #x值\n",
    "X=sm.add_constant(x) #回归方程添加一列x0=1\n",
    "bata=np.array([2,5]) #系数\n",
    "e=np.random.normal(size=number) #误差\n",
    "y=np.dot(X,bata)+e #观察值y"
   ],
   "metadata": {
    "collapsed": false,
    "pycharm": {
     "name": "#%%\n"
    }
   }
  },
  {
   "cell_type": "code",
   "execution_count": 16,
   "outputs": [
    {
     "data": {
      "text/plain": "<class 'statsmodels.iolib.summary.Summary'>\n\"\"\"\n                            OLS Regression Results                            \n==============================================================================\nDep. Variable:                      y   R-squared:                       0.995\nModel:                            OLS   Adj. R-squared:                  0.995\nMethod:                 Least Squares   F-statistic:                     3980.\nDate:                Mon, 08 Mar 2021   Prob (F-statistic):           1.41e-22\nTime:                        14:09:09   Log-Likelihood:                -29.207\nNo. Observations:                  20   AIC:                             62.41\nDf Residuals:                      18   BIC:                             64.41\nDf Model:                           1                                         \nCovariance Type:            nonrobust                                         \n==============================================================================\n                 coef    std err          t      P>|t|      [0.025      0.975]\n------------------------------------------------------------------------------\nconst          1.6774      0.473      3.543      0.002       0.683       2.672\nx1             5.1070      0.081     63.090      0.000       4.937       5.277\n==============================================================================\nOmnibus:                        0.014   Durbin-Watson:                   2.068\nProb(Omnibus):                  0.993   Jarque-Bera (JB):                0.118\nSkew:                           0.024   Prob(JB):                        0.943\nKurtosis:                       2.627   Cond. No.                         11.5\n==============================================================================\n\nNotes:\n[1] Standard Errors assume that the covariance matrix of the errors is correctly specified.\n\"\"\"",
      "text/html": "<table class=\"simpletable\">\n<caption>OLS Regression Results</caption>\n<tr>\n  <th>Dep. Variable:</th>            <td>y</td>        <th>  R-squared:         </th> <td>   0.995</td>\n</tr>\n<tr>\n  <th>Model:</th>                   <td>OLS</td>       <th>  Adj. R-squared:    </th> <td>   0.995</td>\n</tr>\n<tr>\n  <th>Method:</th>             <td>Least Squares</td>  <th>  F-statistic:       </th> <td>   3980.</td>\n</tr>\n<tr>\n  <th>Date:</th>             <td>Mon, 08 Mar 2021</td> <th>  Prob (F-statistic):</th> <td>1.41e-22</td>\n</tr>\n<tr>\n  <th>Time:</th>                 <td>14:09:09</td>     <th>  Log-Likelihood:    </th> <td> -29.207</td>\n</tr>\n<tr>\n  <th>No. Observations:</th>      <td>    20</td>      <th>  AIC:               </th> <td>   62.41</td>\n</tr>\n<tr>\n  <th>Df Residuals:</th>          <td>    18</td>      <th>  BIC:               </th> <td>   64.41</td>\n</tr>\n<tr>\n  <th>Df Model:</th>              <td>     1</td>      <th>                     </th>     <td> </td>   \n</tr>\n<tr>\n  <th>Covariance Type:</th>      <td>nonrobust</td>    <th>                     </th>     <td> </td>   \n</tr>\n</table>\n<table class=\"simpletable\">\n<tr>\n    <td></td>       <th>coef</th>     <th>std err</th>      <th>t</th>      <th>P>|t|</th>  <th>[0.025</th>    <th>0.975]</th>  \n</tr>\n<tr>\n  <th>const</th> <td>    1.6774</td> <td>    0.473</td> <td>    3.543</td> <td> 0.002</td> <td>    0.683</td> <td>    2.672</td>\n</tr>\n<tr>\n  <th>x1</th>    <td>    5.1070</td> <td>    0.081</td> <td>   63.090</td> <td> 0.000</td> <td>    4.937</td> <td>    5.277</td>\n</tr>\n</table>\n<table class=\"simpletable\">\n<tr>\n  <th>Omnibus:</th>       <td> 0.014</td> <th>  Durbin-Watson:     </th> <td>   2.068</td>\n</tr>\n<tr>\n  <th>Prob(Omnibus):</th> <td> 0.993</td> <th>  Jarque-Bera (JB):  </th> <td>   0.118</td>\n</tr>\n<tr>\n  <th>Skew:</th>          <td> 0.024</td> <th>  Prob(JB):          </th> <td>   0.943</td>\n</tr>\n<tr>\n  <th>Kurtosis:</th>      <td> 2.627</td> <th>  Cond. No.          </th> <td>    11.5</td>\n</tr>\n</table><br/><br/>Notes:<br/>[1] Standard Errors assume that the covariance matrix of the errors is correctly specified."
     },
     "execution_count": 16,
     "metadata": {},
     "output_type": "execute_result"
    }
   ],
   "source": [
    "# 建回归方程\n",
    "#OLS（endog,exog=None,missing='none',hasconst=None) (endog:因变量，exog=自变量）\n",
    "modle=sm.OLS(y,X) #最小二乘法\n",
    "res=modle.fit() #拟合数据\n",
    "Bata=res.params  #取系数\n",
    "res.summary() #结果"
   ],
   "metadata": {
    "collapsed": false,
    "pycharm": {
     "name": "#%%\n"
    }
   }
  },
  {
   "cell_type": "code",
   "execution_count": 17,
   "outputs": [
    {
     "data": {
      "text/plain": "<Figure size 576x432 with 1 Axes>",
      "image/png": "[encoded data removed]"
     },
     "metadata": {
      "needs_background": "light"
     },
     "output_type": "display_data"
    }
   ],
   "source": [
    "import matplotlib.pyplot as plt\n",
    "#作图\n",
    "Y=res.fittedvalues  #预测值\n",
    "fig, ax = plt.subplots(figsize=(8,6))\n",
    "ax.plot(x, y, 'o', label='data')#原始数据\n",
    "ax.plot(x, Y, 'r--.',label='test')#拟合数据\n",
    "ax.legend(loc='best') #展示各点表示意思，即label\n",
    "plt.show()"
   ],
   "metadata": {
    "collapsed": false,
    "pycharm": {
     "name": "#%%\n"
    }
   }
  },
  {
   "cell_type": "code",
   "execution_count": 18,
   "outputs": [
    {
     "name": "stdout",
     "output_type": "stream",
     "text": [
      "[4.49632339 2.26167863 2.980294  ]\n"
     ]
    },
    {
     "data": {
      "text/plain": "<Figure size 576x432 with 1 Axes>",
      "image/png": "[encoded data removed]"
     },
     "metadata": {
      "needs_background": "light"
     },
     "output_type": "display_data"
    }
   ],
   "source": [
    "#构造变量\n",
    "number=50\n",
    "x=np.linspace(0,10,number)\n",
    "X=np.column_stack((x,x**2))  #!!!\n",
    "X=sm.add_constant(X)\n",
    "bata=np.array([5,2,3])\n",
    "e=np.random.normal(size=number)\n",
    "y=np.dot(X,bata)+e\n",
    "\n",
    "#建立方程\n",
    "model=sm.OLS(y,X)\n",
    "res=model.fit()\n",
    "Bata=res.params\n",
    "print(Bata)\n",
    "res.summary()\n",
    "\n",
    "#作图\n",
    "y_=res.fittedvalues\n",
    "fig, ax = plt.subplots(figsize=(8,6))\n",
    "ax.plot(x, y, 'o', label='data')\n",
    "ax.plot(x, y_, 'r--.',label='OLS')\n",
    "ax.legend(loc='best')\n",
    "plt.show()"
   ],
   "metadata": {
    "collapsed": false,
    "pycharm": {
     "name": "#%%\n"
    }
   }
  },
  {
   "cell_type": "code",
   "execution_count": 19,
   "outputs": [
    {
     "name": "stderr",
     "output_type": "stream",
     "text": [
      "D:\\pythonProject\\envs\\pythonProject\\lib\\site-packages\\statsmodels\\tools\\tools.py:158: FutureWarning: categorical is deprecated. Use pandas Categorical to represent categorical data and can get_dummies to construct dummy arrays. It will be removed after release 0.13.\n",
      "  warnings.warn(\n"
     ]
    },
    {
     "data": {
      "text/plain": "<class 'statsmodels.iolib.summary.Summary'>\n\"\"\"\n                            OLS Regression Results                            \n==============================================================================\nDep. Variable:                      y   R-squared:                       0.989\nModel:                            OLS   Adj. R-squared:                  0.989\nMethod:                 Least Squares   F-statistic:                     1440.\nDate:                Mon, 08 Mar 2021   Prob (F-statistic):           1.81e-45\nTime:                        14:09:10   Log-Likelihood:                -70.267\nNo. Observations:                  50   AIC:                             148.5\nDf Residuals:                      46   BIC:                             156.2\nDf Model:                           3                                         \nCovariance Type:            nonrobust                                         \n==============================================================================\n                 coef    std err          t      P>|t|      [0.025      0.975]\n------------------------------------------------------------------------------\nconst          4.9270      0.583      8.455      0.000       3.754       6.100\nx1             3.0653      0.134     22.860      0.000       2.795       3.335\nx2             0.8950      0.370      2.422      0.019       0.151       1.639\nx3             1.5505      0.309      5.021      0.000       0.929       2.172\nx4             2.4815      0.696      3.566      0.001       1.081       3.882\n==============================================================================\nOmnibus:                        4.004   Durbin-Watson:                   1.545\nProb(Omnibus):                  0.135   Jarque-Bera (JB):                3.357\nSkew:                           0.308   Prob(JB):                        0.187\nKurtosis:                       4.110   Cond. No.                     6.46e+16\n==============================================================================\n\nNotes:\n[1] Standard Errors assume that the covariance matrix of the errors is correctly specified.\n[2] The smallest eigenvalue is 4.16e-31. This might indicate that there are\nstrong multicollinearity problems or that the design matrix is singular.\n\"\"\"",
      "text/html": "<table class=\"simpletable\">\n<caption>OLS Regression Results</caption>\n<tr>\n  <th>Dep. Variable:</th>            <td>y</td>        <th>  R-squared:         </th> <td>   0.989</td>\n</tr>\n<tr>\n  <th>Model:</th>                   <td>OLS</td>       <th>  Adj. R-squared:    </th> <td>   0.989</td>\n</tr>\n<tr>\n  <th>Method:</th>             <td>Least Squares</td>  <th>  F-statistic:       </th> <td>   1440.</td>\n</tr>\n<tr>\n  <th>Date:</th>             <td>Mon, 08 Mar 2021</td> <th>  Prob (F-statistic):</th> <td>1.81e-45</td>\n</tr>\n<tr>\n  <th>Time:</th>                 <td>14:09:10</td>     <th>  Log-Likelihood:    </th> <td> -70.267</td>\n</tr>\n<tr>\n  <th>No. Observations:</th>      <td>    50</td>      <th>  AIC:               </th> <td>   148.5</td>\n</tr>\n<tr>\n  <th>Df Residuals:</th>          <td>    46</td>      <th>  BIC:               </th> <td>   156.2</td>\n</tr>\n<tr>\n  <th>Df Model:</th>              <td>     3</td>      <th>                     </th>     <td> </td>   \n</tr>\n<tr>\n  <th>Covariance Type:</th>      <td>nonrobust</td>    <th>                     </th>     <td> </td>   \n</tr>\n</table>\n<table class=\"simpletable\">\n<tr>\n    <td></td>       <th>coef</th>     <th>std err</th>      <th>t</th>      <th>P>|t|</th>  <th>[0.025</th>    <th>0.975]</th>  \n</tr>\n<tr>\n  <th>const</th> <td>    4.9270</td> <td>    0.583</td> <td>    8.455</td> <td> 0.000</td> <td>    3.754</td> <td>    6.100</td>\n</tr>\n<tr>\n  <th>x1</th>    <td>    3.0653</td> <td>    0.134</td> <td>   22.860</td> <td> 0.000</td> <td>    2.795</td> <td>    3.335</td>\n</tr>\n<tr>\n  <th>x2</th>    <td>    0.8950</td> <td>    0.370</td> <td>    2.422</td> <td> 0.019</td> <td>    0.151</td> <td>    1.639</td>\n</tr>\n<tr>\n  <th>x3</th>    <td>    1.5505</td> <td>    0.309</td> <td>    5.021</td> <td> 0.000</td> <td>    0.929</td> <td>    2.172</td>\n</tr>\n<tr>\n  <th>x4</th>    <td>    2.4815</td> <td>    0.696</td> <td>    3.566</td> <td> 0.001</td> <td>    1.081</td> <td>    3.882</td>\n</tr>\n</table>\n<table class=\"simpletable\">\n<tr>\n  <th>Omnibus:</th>       <td> 4.004</td> <th>  Durbin-Watson:     </th> <td>   1.545</td>\n</tr>\n<tr>\n  <th>Prob(Omnibus):</th> <td> 0.135</td> <th>  Jarque-Bera (JB):  </th> <td>   3.357</td>\n</tr>\n<tr>\n  <th>Skew:</th>          <td> 0.308</td> <th>  Prob(JB):          </th> <td>   0.187</td>\n</tr>\n<tr>\n  <th>Kurtosis:</th>      <td> 4.110</td> <th>  Cond. No.          </th> <td>6.46e+16</td>\n</tr>\n</table><br/><br/>Notes:<br/>[1] Standard Errors assume that the covariance matrix of the errors is correctly specified.<br/>[2] The smallest eigenvalue is 4.16e-31. This might indicate that there are<br/>strong multicollinearity problems or that the design matrix is singular."
     },
     "execution_count": 19,
     "metadata": {},
     "output_type": "execute_result"
    }
   ],
   "source": [
    "\n",
    "#构造函数\n",
    "number=50\n",
    "group=np.zeros(number,int)\n",
    "group[20:40]=1\n",
    "group[40:]=2\n",
    "category=sm.categorical(group,drop=True) #构造分类变量\n",
    "x=np.linspace(0,10,number)\n",
    "X=np.column_stack((x,category))\n",
    "X=sm.add_constant(X)\n",
    "bata=np.array([2,3,4,5,6])\n",
    "e=np.random.normal(size=number)\n",
    "y=np.dot(X,bata)+e\n",
    "\n",
    "#建立方程\n",
    "model=sm.OLS(y,X).fit()\n",
    "model.summary()"
   ],
   "metadata": {
    "collapsed": false,
    "pycharm": {
     "name": "#%%\n"
    }
   }
  },
  {
   "cell_type": "code",
   "execution_count": 20,
   "outputs": [
    {
     "data": {
      "text/plain": "<Figure size 576x432 with 1 Axes>",
      "image/png": "[encoded data removed]"
     },
     "metadata": {
      "needs_background": "light"
     },
     "output_type": "display_data"
    }
   ],
   "source": [
    "#作图\n",
    "Y=model.fittedvalues\n",
    "fig, ax = plt.subplots(figsize=(8,6))\n",
    "ax.plot(x, y, 'o', label='data')\n",
    "ax.plot(x, Y, 'r--.',label='OLS')\n",
    "ax.legend(loc='best')\n",
    "plt.show()\n"
   ],
   "metadata": {
    "collapsed": false,
    "pycharm": {
     "name": "#%%\n"
    }
   }
  },
  {
   "cell_type": "code",
   "execution_count": 21,
   "outputs": [
    {
     "data": {
      "text/plain": "                                              sum_sq    df          F  \\\nC(fcategory, Sum)                          11.614700   2.0   0.276958   \nC(partner_status, Sum)                    212.213778   1.0  10.120692   \nC(fcategory, Sum):C(partner_status, Sum)  175.488928   2.0   4.184623   \nResidual                                  817.763961  39.0        NaN   \n\n                                            PR(>F)  \nC(fcategory, Sum)                         0.759564  \nC(partner_status, Sum)                    0.002874  \nC(fcategory, Sum):C(partner_status, Sum)  0.022572  \nResidual                                       NaN  ",
      "text/html": "<div>\n<style scoped>\n    .dataframe tbody tr th:only-of-type {\n        vertical-align: middle;\n    }\n\n    .dataframe tbody tr th {\n        vertical-align: top;\n    }\n\n    .dataframe thead th {\n        text-align: right;\n    }\n</style>\n<table border=\"1\" class=\"dataframe\">\n  <thead>\n    <tr style=\"text-align: right;\">\n      <th></th>\n      <th>sum_sq</th>\n      <th>df</th>\n      <th>F</th>\n      <th>PR(&gt;F)</th>\n    </tr>\n  </thead>\n  <tbody>\n    <tr>\n      <th>C(fcategory, Sum)</th>\n      <td>11.614700</td>\n      <td>2.0</td>\n      <td>0.276958</td>\n      <td>0.759564</td>\n    </tr>\n    <tr>\n      <th>C(partner_status, Sum)</th>\n      <td>212.213778</td>\n      <td>1.0</td>\n      <td>10.120692</td>\n      <td>0.002874</td>\n    </tr>\n    <tr>\n      <th>C(fcategory, Sum):C(partner_status, Sum)</th>\n      <td>175.488928</td>\n      <td>2.0</td>\n      <td>4.184623</td>\n      <td>0.022572</td>\n    </tr>\n    <tr>\n      <th>Residual</th>\n      <td>817.763961</td>\n      <td>39.0</td>\n      <td>NaN</td>\n      <td>NaN</td>\n    </tr>\n  </tbody>\n</table>\n</div>"
     },
     "execution_count": 21,
     "metadata": {},
     "output_type": "execute_result"
    }
   ],
   "source": [
    "moore = pd.read_csv('../Data/statsData/Moore.csv')\n",
    "data = moore.rename(columns={\"partner.status\": \"partner_status\"})\n",
    "moore_lm = smf.ols('conformity ~ C(fcategory, Sum)*C(partner_status, Sum)',data=data).fit()\n",
    "table = sm.stats.anova_lm(moore_lm, typ=2) # Type 2 ANOVA DataFrame\n",
    "table"
   ],
   "metadata": {
    "collapsed": false,
    "pycharm": {
     "name": "#%%\n"
    }
   }
  },
  {
   "cell_type": "code",
   "execution_count": 22,
   "outputs": [
    {
     "data": {
      "text/plain": "           df     sum_sq    mean_sq          F    PR(>F)\nC(A)      2.0  28.291667  14.145833  35.736842  0.000465\nC(B)      3.0  66.062500  22.020833  55.631579  0.000090\nResidual  6.0   2.375000   0.395833        NaN       NaN",
      "text/html": "<div>\n<style scoped>\n    .dataframe tbody tr th:only-of-type {\n        vertical-align: middle;\n    }\n\n    .dataframe tbody tr th {\n        vertical-align: top;\n    }\n\n    .dataframe thead th {\n        text-align: right;\n    }\n</style>\n<table border=\"1\" class=\"dataframe\">\n  <thead>\n    <tr style=\"text-align: right;\">\n      <th></th>\n      <th>df</th>\n      <th>sum_sq</th>\n      <th>mean_sq</th>\n      <th>F</th>\n      <th>PR(&gt;F)</th>\n    </tr>\n  </thead>\n  <tbody>\n    <tr>\n      <th>C(A)</th>\n      <td>2.0</td>\n      <td>28.291667</td>\n      <td>14.145833</td>\n      <td>35.736842</td>\n      <td>0.000465</td>\n    </tr>\n    <tr>\n      <th>C(B)</th>\n      <td>3.0</td>\n      <td>66.062500</td>\n      <td>22.020833</td>\n      <td>55.631579</td>\n      <td>0.000090</td>\n    </tr>\n    <tr>\n      <th>Residual</th>\n      <td>6.0</td>\n      <td>2.375000</td>\n      <td>0.395833</td>\n      <td>NaN</td>\n      <td>NaN</td>\n    </tr>\n  </tbody>\n</table>\n</div>"
     },
     "execution_count": 22,
     "metadata": {},
     "output_type": "execute_result"
    }
   ],
   "source": [
    "data = pd.DataFrame([[1, 1, 32],\n",
    "                     [1, 2, 35],\n",
    "                     [1, 3, 35.5],\n",
    "                     [1, 4, 38.5],\n",
    "                     [2, 1, 33.5],\n",
    "                     [2, 2, 36.5],\n",
    "                     [2, 3, 38],\n",
    "                     [2, 4, 39.5],\n",
    "                     [3, 1, 36],\n",
    "                     [3, 2, 37.5],\n",
    "                     [3, 3, 39.5],\n",
    "                     [3, 4, 43]],\n",
    "                    columns=['A', 'B', 'value'])\n",
    "\n",
    "# 因素A的水平对结果的影响\n",
    "'value ~ C(A)'\n",
    "\n",
    "# 因素A和因素B的水平对结果的影响\n",
    "'value ~ C(A) + C(B)'\n",
    "\n",
    "# 因素A和因素B以及A和B的交互作用的水平对结果的影响\n",
    "'value ~ C(A) + C(B) + C(A)*C(B)'\n",
    "\n",
    "# 多因素无重复试验，不计算交互作用的影响\n",
    "model = smf.ols('value~C(A) + C(B)', data=data[['A', 'B', 'value']]).fit()\n",
    "anovat = sm.stats.anova_lm(model)\n",
    "anovat"
   ],
   "metadata": {
    "collapsed": false,
    "pycharm": {
     "name": "#%%\n"
    }
   }
  },
  {
   "cell_type": "code",
   "execution_count": 23,
   "outputs": [
    {
     "name": "stderr",
     "output_type": "stream",
     "text": [
      "D:\\pythonProject\\envs\\pythonProject\\lib\\site-packages\\scipy\\stats\\stats.py:1603: UserWarning: kurtosistest only valid for n>=20 ... continuing anyway, n=12\n",
      "  warnings.warn(\"kurtosistest only valid for n>=20 ... continuing \"\n"
     ]
    },
    {
     "data": {
      "text/plain": "<class 'statsmodels.iolib.summary.Summary'>\n\"\"\"\n                            OLS Regression Results                            \n==============================================================================\nDep. Variable:                  value   R-squared:                       0.975\nModel:                            OLS   Adj. R-squared:                  0.955\nMethod:                 Least Squares   F-statistic:                     47.67\nDate:                Mon, 08 Mar 2021   Prob (F-statistic):           9.45e-05\nTime:                        14:09:10   Log-Likelihood:                -7.3078\nNo. Observations:                  12   AIC:                             26.62\nDf Residuals:                       6   BIC:                             29.53\nDf Model:                           5                                         \nCovariance Type:            nonrobust                                         \n==============================================================================\n                 coef    std err          t      P>|t|      [0.025      0.975]\n------------------------------------------------------------------------------\nIntercept     32.0417      0.445     72.023      0.000      30.953      33.130\nC(A)[T.2]      1.6250      0.445      3.653      0.011       0.536       2.714\nC(A)[T.3]      3.7500      0.445      8.429      0.000       2.661       4.839\nC(B)[T.2]      2.5000      0.514      4.867      0.003       1.243       3.757\nC(B)[T.3]      3.8333      0.514      7.462      0.000       2.576       5.090\nC(B)[T.4]      6.5000      0.514     12.653      0.000       5.243       7.757\n==============================================================================\nOmnibus:                        0.415   Durbin-Watson:                   2.364\nProb(Omnibus):                  0.813   Jarque-Bera (JB):                0.506\nSkew:                          -0.217   Prob(JB):                        0.777\nKurtosis:                       2.093   Cond. No.                         5.35\n==============================================================================\n\nNotes:\n[1] Standard Errors assume that the covariance matrix of the errors is correctly specified.\n\"\"\"",
      "text/html": "<table class=\"simpletable\">\n<caption>OLS Regression Results</caption>\n<tr>\n  <th>Dep. Variable:</th>          <td>value</td>      <th>  R-squared:         </th> <td>   0.975</td>\n</tr>\n<tr>\n  <th>Model:</th>                   <td>OLS</td>       <th>  Adj. R-squared:    </th> <td>   0.955</td>\n</tr>\n<tr>\n  <th>Method:</th>             <td>Least Squares</td>  <th>  F-statistic:       </th> <td>   47.67</td>\n</tr>\n<tr>\n  <th>Date:</th>             <td>Mon, 08 Mar 2021</td> <th>  Prob (F-statistic):</th> <td>9.45e-05</td>\n</tr>\n<tr>\n  <th>Time:</th>                 <td>14:09:10</td>     <th>  Log-Likelihood:    </th> <td> -7.3078</td>\n</tr>\n<tr>\n  <th>No. Observations:</th>      <td>    12</td>      <th>  AIC:               </th> <td>   26.62</td>\n</tr>\n<tr>\n  <th>Df Residuals:</th>          <td>     6</td>      <th>  BIC:               </th> <td>   29.53</td>\n</tr>\n<tr>\n  <th>Df Model:</th>              <td>     5</td>      <th>                     </th>     <td> </td>   \n</tr>\n<tr>\n  <th>Covariance Type:</th>      <td>nonrobust</td>    <th>                     </th>     <td> </td>   \n</tr>\n</table>\n<table class=\"simpletable\">\n<tr>\n      <td></td>         <th>coef</th>     <th>std err</th>      <th>t</th>      <th>P>|t|</th>  <th>[0.025</th>    <th>0.975]</th>  \n</tr>\n<tr>\n  <th>Intercept</th> <td>   32.0417</td> <td>    0.445</td> <td>   72.023</td> <td> 0.000</td> <td>   30.953</td> <td>   33.130</td>\n</tr>\n<tr>\n  <th>C(A)[T.2]</th> <td>    1.6250</td> <td>    0.445</td> <td>    3.653</td> <td> 0.011</td> <td>    0.536</td> <td>    2.714</td>\n</tr>\n<tr>\n  <th>C(A)[T.3]</th> <td>    3.7500</td> <td>    0.445</td> <td>    8.429</td> <td> 0.000</td> <td>    2.661</td> <td>    4.839</td>\n</tr>\n<tr>\n  <th>C(B)[T.2]</th> <td>    2.5000</td> <td>    0.514</td> <td>    4.867</td> <td> 0.003</td> <td>    1.243</td> <td>    3.757</td>\n</tr>\n<tr>\n  <th>C(B)[T.3]</th> <td>    3.8333</td> <td>    0.514</td> <td>    7.462</td> <td> 0.000</td> <td>    2.576</td> <td>    5.090</td>\n</tr>\n<tr>\n  <th>C(B)[T.4]</th> <td>    6.5000</td> <td>    0.514</td> <td>   12.653</td> <td> 0.000</td> <td>    5.243</td> <td>    7.757</td>\n</tr>\n</table>\n<table class=\"simpletable\">\n<tr>\n  <th>Omnibus:</th>       <td> 0.415</td> <th>  Durbin-Watson:     </th> <td>   2.364</td>\n</tr>\n<tr>\n  <th>Prob(Omnibus):</th> <td> 0.813</td> <th>  Jarque-Bera (JB):  </th> <td>   0.506</td>\n</tr>\n<tr>\n  <th>Skew:</th>          <td>-0.217</td> <th>  Prob(JB):          </th> <td>   0.777</td>\n</tr>\n<tr>\n  <th>Kurtosis:</th>      <td> 2.093</td> <th>  Cond. No.          </th> <td>    5.35</td>\n</tr>\n</table><br/><br/>Notes:<br/>[1] Standard Errors assume that the covariance matrix of the errors is correctly specified."
     },
     "execution_count": 23,
     "metadata": {},
     "output_type": "execute_result"
    }
   ],
   "source": [
    "model.summary()"
   ],
   "metadata": {
    "collapsed": false,
    "pycharm": {
     "name": "#%%\n"
    }
   }
  },
  {
   "cell_type": "code",
   "execution_count": 24,
   "outputs": [
    {
     "data": {
      "text/plain": "    index treatments  value\n0       0          A     25\n1       1          A     30\n2       2          A     28\n3       3          A     36\n4       4          A     29\n5       0          B     45\n6       1          B     55\n7       2          B     29\n8       3          B     56\n9       4          B     40\n10      0          C     30\n11      1          C     29\n12      2          C     33\n13      3          C     37\n14      4          C     27\n15      0          D     54\n16      1          D     60\n17      2          D     51\n18      3          D     62\n19      4          D     73",
      "text/html": "<div>\n<style scoped>\n    .dataframe tbody tr th:only-of-type {\n        vertical-align: middle;\n    }\n\n    .dataframe tbody tr th {\n        vertical-align: top;\n    }\n\n    .dataframe thead th {\n        text-align: right;\n    }\n</style>\n<table border=\"1\" class=\"dataframe\">\n  <thead>\n    <tr style=\"text-align: right;\">\n      <th></th>\n      <th>index</th>\n      <th>treatments</th>\n      <th>value</th>\n    </tr>\n  </thead>\n  <tbody>\n    <tr>\n      <th>0</th>\n      <td>0</td>\n      <td>A</td>\n      <td>25</td>\n    </tr>\n    <tr>\n      <th>1</th>\n      <td>1</td>\n      <td>A</td>\n      <td>30</td>\n    </tr>\n    <tr>\n      <th>2</th>\n      <td>2</td>\n      <td>A</td>\n      <td>28</td>\n    </tr>\n    <tr>\n      <th>3</th>\n      <td>3</td>\n      <td>A</td>\n      <td>36</td>\n    </tr>\n    <tr>\n      <th>4</th>\n      <td>4</td>\n      <td>A</td>\n      <td>29</td>\n    </tr>\n    <tr>\n      <th>5</th>\n      <td>0</td>\n      <td>B</td>\n      <td>45</td>\n    </tr>\n    <tr>\n      <th>6</th>\n      <td>1</td>\n      <td>B</td>\n      <td>55</td>\n    </tr>\n    <tr>\n      <th>7</th>\n      <td>2</td>\n      <td>B</td>\n      <td>29</td>\n    </tr>\n    <tr>\n      <th>8</th>\n      <td>3</td>\n      <td>B</td>\n      <td>56</td>\n    </tr>\n    <tr>\n      <th>9</th>\n      <td>4</td>\n      <td>B</td>\n      <td>40</td>\n    </tr>\n    <tr>\n      <th>10</th>\n      <td>0</td>\n      <td>C</td>\n      <td>30</td>\n    </tr>\n    <tr>\n      <th>11</th>\n      <td>1</td>\n      <td>C</td>\n      <td>29</td>\n    </tr>\n    <tr>\n      <th>12</th>\n      <td>2</td>\n      <td>C</td>\n      <td>33</td>\n    </tr>\n    <tr>\n      <th>13</th>\n      <td>3</td>\n      <td>C</td>\n      <td>37</td>\n    </tr>\n    <tr>\n      <th>14</th>\n      <td>4</td>\n      <td>C</td>\n      <td>27</td>\n    </tr>\n    <tr>\n      <th>15</th>\n      <td>0</td>\n      <td>D</td>\n      <td>54</td>\n    </tr>\n    <tr>\n      <th>16</th>\n      <td>1</td>\n      <td>D</td>\n      <td>60</td>\n    </tr>\n    <tr>\n      <th>17</th>\n      <td>2</td>\n      <td>D</td>\n      <td>51</td>\n    </tr>\n    <tr>\n      <th>18</th>\n      <td>3</td>\n      <td>D</td>\n      <td>62</td>\n    </tr>\n    <tr>\n      <th>19</th>\n      <td>4</td>\n      <td>D</td>\n      <td>73</td>\n    </tr>\n  </tbody>\n</table>\n</div>"
     },
     "execution_count": 24,
     "metadata": {},
     "output_type": "execute_result"
    }
   ],
   "source": [
    "df = pd.read_csv('../Data/statsData/testData.csv')\n",
    "df_melt = pd.melt(df.reset_index(),id_vars=['index'],value_vars=['A','B','C','D'])\n",
    "df_melt.columns = ['index', 'treatments', 'value']\n",
    "df_melt"
   ],
   "metadata": {
    "collapsed": false,
    "pycharm": {
     "name": "#%%\n"
    }
   }
  },
  {
   "cell_type": "code",
   "execution_count": 25,
   "outputs": [
    {
     "data": {
      "text/plain": "<Figure size 432x288 with 1 Axes>",
      "image/png": "[encoded data removed]"
     },
     "metadata": {
      "needs_background": "light"
     },
     "output_type": "display_data"
    }
   ],
   "source": [
    "ax = sns.boxplot(x='treatments', y='value', data=df_melt, color='#99c2a2')\n",
    "ax = sns.swarmplot(x=\"treatments\", y=\"value\", data=df_melt, color='#7d0013')\n",
    "plt.show()"
   ],
   "metadata": {
    "collapsed": false,
    "pycharm": {
     "name": "#%%\n"
    }
   }
  },
  {
   "cell_type": "code",
   "execution_count": 26,
   "outputs": [
    {
     "name": "stdout",
     "output_type": "stream",
     "text": [
      "17.492810457516338 2.639241146210922e-05\n"
     ]
    }
   ],
   "source": [
    "import scipy.stats as stats\n",
    "\n",
    "fvalue, pvalue = stats.f_oneway(df['A'],df['B'],df['C'],df['D'])\n",
    "print(fvalue, pvalue)"
   ],
   "metadata": {
    "collapsed": false,
    "pycharm": {
     "name": "#%%\n"
    }
   }
  },
  {
   "cell_type": "code",
   "execution_count": 27,
   "outputs": [
    {
     "data": {
      "text/plain": "                sum_sq    df         F    PR(>F)\nC(treatments)  3010.95   3.0  17.49281  0.000026\nResidual        918.00  16.0       NaN       NaN",
      "text/html": "<div>\n<style scoped>\n    .dataframe tbody tr th:only-of-type {\n        vertical-align: middle;\n    }\n\n    .dataframe tbody tr th {\n        vertical-align: top;\n    }\n\n    .dataframe thead th {\n        text-align: right;\n    }\n</style>\n<table border=\"1\" class=\"dataframe\">\n  <thead>\n    <tr style=\"text-align: right;\">\n      <th></th>\n      <th>sum_sq</th>\n      <th>df</th>\n      <th>F</th>\n      <th>PR(&gt;F)</th>\n    </tr>\n  </thead>\n  <tbody>\n    <tr>\n      <th>C(treatments)</th>\n      <td>3010.95</td>\n      <td>3.0</td>\n      <td>17.49281</td>\n      <td>0.000026</td>\n    </tr>\n    <tr>\n      <th>Residual</th>\n      <td>918.00</td>\n      <td>16.0</td>\n      <td>NaN</td>\n      <td>NaN</td>\n    </tr>\n  </tbody>\n</table>\n</div>"
     },
     "execution_count": 27,
     "metadata": {},
     "output_type": "execute_result"
    }
   ],
   "source": [
    "model = smf.ols('value ~ C(treatments)',data = df_melt).fit()\n",
    "anova_table = sm.stats.anova_lm(model,typ = 2)\n",
    "anova_table"
   ],
   "metadata": {
    "collapsed": false,
    "pycharm": {
     "name": "#%%\n"
    }
   }
  },
  {
   "cell_type": "code",
   "execution_count": 28,
   "outputs": [
    {
     "data": {
      "text/plain": "                 df   sum_sq   mean_sq         F    PR(>F)\nC(treatments)   3.0  3010.95  1003.650  17.49281  0.000026\nResidual       16.0   918.00    57.375       NaN       NaN",
      "text/html": "<div>\n<style scoped>\n    .dataframe tbody tr th:only-of-type {\n        vertical-align: middle;\n    }\n\n    .dataframe tbody tr th {\n        vertical-align: top;\n    }\n\n    .dataframe thead th {\n        text-align: right;\n    }\n</style>\n<table border=\"1\" class=\"dataframe\">\n  <thead>\n    <tr style=\"text-align: right;\">\n      <th></th>\n      <th>df</th>\n      <th>sum_sq</th>\n      <th>mean_sq</th>\n      <th>F</th>\n      <th>PR(&gt;F)</th>\n    </tr>\n  </thead>\n  <tbody>\n    <tr>\n      <th>C(treatments)</th>\n      <td>3.0</td>\n      <td>3010.95</td>\n      <td>1003.650</td>\n      <td>17.49281</td>\n      <td>0.000026</td>\n    </tr>\n    <tr>\n      <th>Residual</th>\n      <td>16.0</td>\n      <td>918.00</td>\n      <td>57.375</td>\n      <td>NaN</td>\n      <td>NaN</td>\n    </tr>\n  </tbody>\n</table>\n</div>"
     },
     "execution_count": 28,
     "metadata": {},
     "output_type": "execute_result"
    }
   ],
   "source": [
    "from bioinfokit.analys import stat\n",
    "res = stat()\n",
    "res.anova_stat(df=df_melt, res_var='value', anova_model='value ~ C(treatments)')\n",
    "res.anova_summary"
   ],
   "metadata": {
    "collapsed": false,
    "pycharm": {
     "name": "#%%\n"
    }
   }
  },
  {
   "cell_type": "code",
   "execution_count": 29,
   "outputs": [
    {
     "data": {
      "text/plain": "  group1 group2  Diff      Lower      Upper   q-value   p-value\n0      A      B  15.4   1.692871  29.107129  4.546156  0.025070\n1      A      C   1.6 -12.107129  15.307129  0.472328  0.900000\n2      A      D  30.4  16.692871  44.107129  8.974231  0.001000\n3      B      C  13.8   0.092871  27.507129  4.073828  0.048178\n4      B      D  15.0   1.292871  28.707129  4.428074  0.029578\n5      C      D  28.8  15.092871  42.507129  8.501903  0.001000",
      "text/html": "<div>\n<style scoped>\n    .dataframe tbody tr th:only-of-type {\n        vertical-align: middle;\n    }\n\n    .dataframe tbody tr th {\n        vertical-align: top;\n    }\n\n    .dataframe thead th {\n        text-align: right;\n    }\n</style>\n<table border=\"1\" class=\"dataframe\">\n  <thead>\n    <tr style=\"text-align: right;\">\n      <th></th>\n      <th>group1</th>\n      <th>group2</th>\n      <th>Diff</th>\n      <th>Lower</th>\n      <th>Upper</th>\n      <th>q-value</th>\n      <th>p-value</th>\n    </tr>\n  </thead>\n  <tbody>\n    <tr>\n      <th>0</th>\n      <td>A</td>\n      <td>B</td>\n      <td>15.4</td>\n      <td>1.692871</td>\n      <td>29.107129</td>\n      <td>4.546156</td>\n      <td>0.025070</td>\n    </tr>\n    <tr>\n      <th>1</th>\n      <td>A</td>\n      <td>C</td>\n      <td>1.6</td>\n      <td>-12.107129</td>\n      <td>15.307129</td>\n      <td>0.472328</td>\n      <td>0.900000</td>\n    </tr>\n    <tr>\n      <th>2</th>\n      <td>A</td>\n      <td>D</td>\n      <td>30.4</td>\n      <td>16.692871</td>\n      <td>44.107129</td>\n      <td>8.974231</td>\n      <td>0.001000</td>\n    </tr>\n    <tr>\n      <th>3</th>\n      <td>B</td>\n      <td>C</td>\n      <td>13.8</td>\n      <td>0.092871</td>\n      <td>27.507129</td>\n      <td>4.073828</td>\n      <td>0.048178</td>\n    </tr>\n    <tr>\n      <th>4</th>\n      <td>B</td>\n      <td>D</td>\n      <td>15.0</td>\n      <td>1.292871</td>\n      <td>28.707129</td>\n      <td>4.428074</td>\n      <td>0.029578</td>\n    </tr>\n    <tr>\n      <th>5</th>\n      <td>C</td>\n      <td>D</td>\n      <td>28.8</td>\n      <td>15.092871</td>\n      <td>42.507129</td>\n      <td>8.501903</td>\n      <td>0.001000</td>\n    </tr>\n  </tbody>\n</table>\n</div>"
     },
     "execution_count": 29,
     "metadata": {},
     "output_type": "execute_result"
    }
   ],
   "source": [
    "res.tukey_hsd(df=df_melt,res_var='value',xfac_var='treatments',anova_model='value ~ C(treatments)')\n",
    "res.tukey_summary"
   ],
   "metadata": {
    "collapsed": false,
    "pycharm": {
     "name": "#%%\n"
    }
   }
  },
  {
   "cell_type": "code",
   "execution_count": 30,
   "outputs": [
    {
     "data": {
      "text/plain": "<Figure size 432x288 with 1 Axes>",
      "image/png": "[encoded data removed]"
     },
     "metadata": {
      "needs_background": "light"
     },
     "output_type": "display_data"
    }
   ],
   "source": [
    "sm.qqplot(res.anova_std_residuals,line='45')\n",
    "plt.xlabel(\"Theoretical Quantiles\")\n",
    "plt.ylabel(\"Standardized Residuals\")\n",
    "plt.show()"
   ],
   "metadata": {
    "collapsed": false,
    "pycharm": {
     "name": "#%%\n"
    }
   }
  },
  {
   "cell_type": "code",
   "execution_count": 31,
   "outputs": [
    {
     "data": {
      "text/plain": "<Figure size 432x288 with 1 Axes>",
      "image/png": "[encoded data removed]"
     },
     "metadata": {
      "needs_background": "light"
     },
     "output_type": "display_data"
    }
   ],
   "source": [
    "plt.hist(res.anova_model_out.resid, bins='auto', histtype='bar', ec='k')\n",
    "plt.xlabel(\"Residuals\")\n",
    "plt.ylabel('Frequency')\n",
    "plt.show()"
   ],
   "metadata": {
    "collapsed": false,
    "pycharm": {
     "name": "#%%\n"
    }
   }
  },
  {
   "cell_type": "code",
   "execution_count": 32,
   "outputs": [
    {
     "name": "stdout",
     "output_type": "stream",
     "text": [
      "0.9685019850730896 0.7229772806167603\n"
     ]
    }
   ],
   "source": [
    "w, pvalue = stats.shapiro(model.resid)\n",
    "print(w,pvalue)"
   ],
   "metadata": {
    "collapsed": false,
    "pycharm": {
     "name": "#%%\n"
    }
   }
  },
  {
   "cell_type": "code",
   "execution_count": 33,
   "outputs": [
    {
     "name": "stdout",
     "output_type": "stream",
     "text": [
      "5.687843565012841 0.1278253399753447\n"
     ]
    }
   ],
   "source": [
    "w, pvalue = stats.bartlett(df['A'],df['B'],df['C'],df['D'])\n",
    "print(w, pvalue)"
   ],
   "metadata": {
    "collapsed": false,
    "pycharm": {
     "name": "#%%\n"
    }
   }
  },
  {
   "cell_type": "code",
   "execution_count": 34,
   "outputs": [
    {
     "data": {
      "text/plain": "                 Parameter   Value\n0      Test statistics (T)  5.6878\n1  Degrees of freedom (Df)  3.0000\n2                  p value  0.1278",
      "text/html": "<div>\n<style scoped>\n    .dataframe tbody tr th:only-of-type {\n        vertical-align: middle;\n    }\n\n    .dataframe tbody tr th {\n        vertical-align: top;\n    }\n\n    .dataframe thead th {\n        text-align: right;\n    }\n</style>\n<table border=\"1\" class=\"dataframe\">\n  <thead>\n    <tr style=\"text-align: right;\">\n      <th></th>\n      <th>Parameter</th>\n      <th>Value</th>\n    </tr>\n  </thead>\n  <tbody>\n    <tr>\n      <th>0</th>\n      <td>Test statistics (T)</td>\n      <td>5.6878</td>\n    </tr>\n    <tr>\n      <th>1</th>\n      <td>Degrees of freedom (Df)</td>\n      <td>3.0000</td>\n    </tr>\n    <tr>\n      <th>2</th>\n      <td>p value</td>\n      <td>0.1278</td>\n    </tr>\n  </tbody>\n</table>\n</div>"
     },
     "execution_count": 34,
     "metadata": {},
     "output_type": "execute_result"
    }
   ],
   "source": [
    "res.bartlett(df=df_melt,res_var='value',xfac_var='treatments')\n",
    "res.bartlett_summary"
   ],
   "metadata": {
    "collapsed": false,
    "pycharm": {
     "name": "#%%\n"
    }
   }
  },
  {
   "cell_type": "code",
   "execution_count": 35,
   "outputs": [
    {
     "data": {
      "text/plain": "                 Parameter   Value\n0      Test statistics (W)  1.9220\n1  Degrees of freedom (Df)  3.0000\n2                  p value  0.1667",
      "text/html": "<div>\n<style scoped>\n    .dataframe tbody tr th:only-of-type {\n        vertical-align: middle;\n    }\n\n    .dataframe tbody tr th {\n        vertical-align: top;\n    }\n\n    .dataframe thead th {\n        text-align: right;\n    }\n</style>\n<table border=\"1\" class=\"dataframe\">\n  <thead>\n    <tr style=\"text-align: right;\">\n      <th></th>\n      <th>Parameter</th>\n      <th>Value</th>\n    </tr>\n  </thead>\n  <tbody>\n    <tr>\n      <th>0</th>\n      <td>Test statistics (W)</td>\n      <td>1.9220</td>\n    </tr>\n    <tr>\n      <th>1</th>\n      <td>Degrees of freedom (Df)</td>\n      <td>3.0000</td>\n    </tr>\n    <tr>\n      <th>2</th>\n      <td>p value</td>\n      <td>0.1667</td>\n    </tr>\n  </tbody>\n</table>\n</div>"
     },
     "execution_count": 35,
     "metadata": {},
     "output_type": "execute_result"
    }
   ],
   "source": [
    "res = stat()\n",
    "res.levene(df=df_melt, res_var='value', xfac_var='treatments')\n",
    "res.levene_summary"
   ],
   "metadata": {
    "collapsed": false,
    "pycharm": {
     "name": "#%%\n"
    }
   }
  },
  {
   "cell_type": "code",
   "execution_count": 36,
   "outputs": [
    {
     "data": {
      "text/plain": "  Genotype   years  value\n0        A  1_year   1.53\n1        A  1_year   1.83\n2        A  1_year   1.38\n3        B  1_year   3.60\n4        B  1_year   2.94",
      "text/html": "<div>\n<style scoped>\n    .dataframe tbody tr th:only-of-type {\n        vertical-align: middle;\n    }\n\n    .dataframe tbody tr th {\n        vertical-align: top;\n    }\n\n    .dataframe thead th {\n        text-align: right;\n    }\n</style>\n<table border=\"1\" class=\"dataframe\">\n  <thead>\n    <tr style=\"text-align: right;\">\n      <th></th>\n      <th>Genotype</th>\n      <th>years</th>\n      <th>value</th>\n    </tr>\n  </thead>\n  <tbody>\n    <tr>\n      <th>0</th>\n      <td>A</td>\n      <td>1_year</td>\n      <td>1.53</td>\n    </tr>\n    <tr>\n      <th>1</th>\n      <td>A</td>\n      <td>1_year</td>\n      <td>1.83</td>\n    </tr>\n    <tr>\n      <th>2</th>\n      <td>A</td>\n      <td>1_year</td>\n      <td>1.38</td>\n    </tr>\n    <tr>\n      <th>3</th>\n      <td>B</td>\n      <td>1_year</td>\n      <td>3.60</td>\n    </tr>\n    <tr>\n      <th>4</th>\n      <td>B</td>\n      <td>1_year</td>\n      <td>2.94</td>\n    </tr>\n  </tbody>\n</table>\n</div>"
     },
     "execution_count": 36,
     "metadata": {},
     "output_type": "execute_result"
    }
   ],
   "source": [
    "d = pd.read_csv(\"https://reneshbedre.github.io/assets/posts/anova/twowayanova.txt\", sep=\"\\t\")\n",
    "d_melt = pd.melt(d, id_vars=['Genotype'], value_vars=['1_year', '2_year', '3_year'])\n",
    "d_melt.columns = ['Genotype', 'years', 'value']\n",
    "d_melt.head()"
   ],
   "metadata": {
    "collapsed": false,
    "pycharm": {
     "name": "#%%\n"
    }
   }
  },
  {
   "cell_type": "code",
   "execution_count": 37,
   "outputs": [
    {
     "data": {
      "text/plain": "<AxesSubplot:xlabel='Genotype', ylabel='value'>"
     },
     "execution_count": 37,
     "metadata": {},
     "output_type": "execute_result"
    },
    {
     "data": {
      "text/plain": "<Figure size 432x288 with 1 Axes>",
      "image/png": "[encoded data removed]"
     },
     "metadata": {
      "needs_background": "light"
     },
     "output_type": "display_data"
    }
   ],
   "source": [
    "sns.boxplot(x=\"Genotype\", y=\"value\", hue=\"years\", data=d_melt, palette=\"Set3\")"
   ],
   "metadata": {
    "collapsed": false,
    "pycharm": {
     "name": "#%%\n"
    }
   }
  },
  {
   "cell_type": "code",
   "execution_count": 38,
   "outputs": [
    {
     "data": {
      "text/plain": "                          sum_sq    df           F        PR(>F)\nC(Genotype)            58.551733   5.0   32.748581  1.931655e-12\nC(years)              278.925633   2.0  390.014868  4.006243e-25\nC(Genotype):C(years)   17.122967  10.0    4.788525  2.230094e-04\nResidual               12.873000  36.0         NaN           NaN",
      "text/html": "<div>\n<style scoped>\n    .dataframe tbody tr th:only-of-type {\n        vertical-align: middle;\n    }\n\n    .dataframe tbody tr th {\n        vertical-align: top;\n    }\n\n    .dataframe thead th {\n        text-align: right;\n    }\n</style>\n<table border=\"1\" class=\"dataframe\">\n  <thead>\n    <tr style=\"text-align: right;\">\n      <th></th>\n      <th>sum_sq</th>\n      <th>df</th>\n      <th>F</th>\n      <th>PR(&gt;F)</th>\n    </tr>\n  </thead>\n  <tbody>\n    <tr>\n      <th>C(Genotype)</th>\n      <td>58.551733</td>\n      <td>5.0</td>\n      <td>32.748581</td>\n      <td>1.931655e-12</td>\n    </tr>\n    <tr>\n      <th>C(years)</th>\n      <td>278.925633</td>\n      <td>2.0</td>\n      <td>390.014868</td>\n      <td>4.006243e-25</td>\n    </tr>\n    <tr>\n      <th>C(Genotype):C(years)</th>\n      <td>17.122967</td>\n      <td>10.0</td>\n      <td>4.788525</td>\n      <td>2.230094e-04</td>\n    </tr>\n    <tr>\n      <th>Residual</th>\n      <td>12.873000</td>\n      <td>36.0</td>\n      <td>NaN</td>\n      <td>NaN</td>\n    </tr>\n  </tbody>\n</table>\n</div>"
     },
     "execution_count": 38,
     "metadata": {},
     "output_type": "execute_result"
    }
   ],
   "source": [
    "model = smf.ols('value ~ C(Genotype) + C(years) + C(Genotype):C(years)', data=d_melt).fit()\n",
    "anova_table = sm.stats.anova_lm(model, typ=2)\n",
    "anova_table\n"
   ],
   "metadata": {
    "collapsed": false,
    "pycharm": {
     "name": "#%%\n"
    }
   }
  },
  {
   "cell_type": "code",
   "execution_count": 39,
   "outputs": [
    {
     "data": {
      "text/plain": "                        df      sum_sq     mean_sq           F        PR(>F)\nC(Genotype)            5.0   58.551733   11.710347   32.748581  1.931655e-12\nC(years)               2.0  278.925633  139.462817  390.014868  4.006243e-25\nC(Genotype):C(years)  10.0   17.122967    1.712297    4.788525  2.230094e-04\nResidual              36.0   12.873000    0.357583         NaN           NaN",
      "text/html": "<div>\n<style scoped>\n    .dataframe tbody tr th:only-of-type {\n        vertical-align: middle;\n    }\n\n    .dataframe tbody tr th {\n        vertical-align: top;\n    }\n\n    .dataframe thead th {\n        text-align: right;\n    }\n</style>\n<table border=\"1\" class=\"dataframe\">\n  <thead>\n    <tr style=\"text-align: right;\">\n      <th></th>\n      <th>df</th>\n      <th>sum_sq</th>\n      <th>mean_sq</th>\n      <th>F</th>\n      <th>PR(&gt;F)</th>\n    </tr>\n  </thead>\n  <tbody>\n    <tr>\n      <th>C(Genotype)</th>\n      <td>5.0</td>\n      <td>58.551733</td>\n      <td>11.710347</td>\n      <td>32.748581</td>\n      <td>1.931655e-12</td>\n    </tr>\n    <tr>\n      <th>C(years)</th>\n      <td>2.0</td>\n      <td>278.925633</td>\n      <td>139.462817</td>\n      <td>390.014868</td>\n      <td>4.006243e-25</td>\n    </tr>\n    <tr>\n      <th>C(Genotype):C(years)</th>\n      <td>10.0</td>\n      <td>17.122967</td>\n      <td>1.712297</td>\n      <td>4.788525</td>\n      <td>2.230094e-04</td>\n    </tr>\n    <tr>\n      <th>Residual</th>\n      <td>36.0</td>\n      <td>12.873000</td>\n      <td>0.357583</td>\n      <td>NaN</td>\n      <td>NaN</td>\n    </tr>\n  </tbody>\n</table>\n</div>"
     },
     "execution_count": 39,
     "metadata": {},
     "output_type": "execute_result"
    }
   ],
   "source": [
    "res = stat()\n",
    "res.anova_stat(df=d_melt, res_var='value', anova_model='value~C(Genotype)+C(years)+C(Genotype):C(years)')\n",
    "res.anova_summary"
   ],
   "metadata": {
    "collapsed": false,
    "pycharm": {
     "name": "#%%\n"
    }
   }
  },
  {
   "cell_type": "code",
   "execution_count": 40,
   "outputs": [
    {
     "data": {
      "text/plain": "<Figure size 432x288 with 1 Axes>",
      "image/png": "[encoded data removed]"
     },
     "metadata": {
      "needs_background": "light"
     },
     "output_type": "display_data"
    }
   ],
   "source": [
    "from statsmodels.graphics.factorplots import interaction_plot\n",
    "fig = interaction_plot(x=d_melt['Genotype'], trace=d_melt['years'], response=d_melt['value'],\n",
    "    colors=['#4c061d','#d17a22', '#b4c292'])\n",
    "plt.show()"
   ],
   "metadata": {
    "collapsed": false,
    "pycharm": {
     "name": "#%%\n"
    }
   }
  },
  {
   "cell_type": "code",
   "execution_count": 41,
   "outputs": [
    {
     "data": {
      "text/plain": "   group1 group2      Diff     Lower     Upper    q-value   p-value\n0       A      B  2.040000  1.191912  2.888088  10.234409  0.001000\n1       A      C  2.733333  1.885245  3.581421  13.712771  0.001000\n2       A      D  2.560000  1.711912  3.408088  12.843180  0.001000\n3       A      E  0.720000 -0.128088  1.568088   3.612145  0.135306\n4       A      F  2.573333  1.725245  3.421421  12.910072  0.001000\n5       B      C  0.693333 -0.154755  1.541421   3.478361  0.163609\n6       B      D  0.520000 -0.328088  1.368088   2.608771  0.453066\n7       B      E  1.320000  0.471912  2.168088   6.622265  0.001000\n8       B      F  0.533333 -0.314755  1.381421   2.675663  0.425189\n9       C      D  0.173333 -0.674755  1.021421   0.869590  0.900000\n10      C      E  2.013333  1.165245  2.861421  10.100626  0.001000\n11      C      F  0.160000 -0.688088  1.008088   0.802699  0.900000\n12      D      E  1.840000  0.991912  2.688088   9.231036  0.001000\n13      D      F  0.013333 -0.834755  0.861421   0.066892  0.900000\n14      E      F  1.853333  1.005245  2.701421   9.297928  0.001000",
      "text/html": "<div>\n<style scoped>\n    .dataframe tbody tr th:only-of-type {\n        vertical-align: middle;\n    }\n\n    .dataframe tbody tr th {\n        vertical-align: top;\n    }\n\n    .dataframe thead th {\n        text-align: right;\n    }\n</style>\n<table border=\"1\" class=\"dataframe\">\n  <thead>\n    <tr style=\"text-align: right;\">\n      <th></th>\n      <th>group1</th>\n      <th>group2</th>\n      <th>Diff</th>\n      <th>Lower</th>\n      <th>Upper</th>\n      <th>q-value</th>\n      <th>p-value</th>\n    </tr>\n  </thead>\n  <tbody>\n    <tr>\n      <th>0</th>\n      <td>A</td>\n      <td>B</td>\n      <td>2.040000</td>\n      <td>1.191912</td>\n      <td>2.888088</td>\n      <td>10.234409</td>\n      <td>0.001000</td>\n    </tr>\n    <tr>\n      <th>1</th>\n      <td>A</td>\n      <td>C</td>\n      <td>2.733333</td>\n      <td>1.885245</td>\n      <td>3.581421</td>\n      <td>13.712771</td>\n      <td>0.001000</td>\n    </tr>\n    <tr>\n      <th>2</th>\n      <td>A</td>\n      <td>D</td>\n      <td>2.560000</td>\n      <td>1.711912</td>\n      <td>3.408088</td>\n      <td>12.843180</td>\n      <td>0.001000</td>\n    </tr>\n    <tr>\n      <th>3</th>\n      <td>A</td>\n      <td>E</td>\n      <td>0.720000</td>\n      <td>-0.128088</td>\n      <td>1.568088</td>\n      <td>3.612145</td>\n      <td>0.135306</td>\n    </tr>\n    <tr>\n      <th>4</th>\n      <td>A</td>\n      <td>F</td>\n      <td>2.573333</td>\n      <td>1.725245</td>\n      <td>3.421421</td>\n      <td>12.910072</td>\n      <td>0.001000</td>\n    </tr>\n    <tr>\n      <th>5</th>\n      <td>B</td>\n      <td>C</td>\n      <td>0.693333</td>\n      <td>-0.154755</td>\n      <td>1.541421</td>\n      <td>3.478361</td>\n      <td>0.163609</td>\n    </tr>\n    <tr>\n      <th>6</th>\n      <td>B</td>\n      <td>D</td>\n      <td>0.520000</td>\n      <td>-0.328088</td>\n      <td>1.368088</td>\n      <td>2.608771</td>\n      <td>0.453066</td>\n    </tr>\n    <tr>\n      <th>7</th>\n      <td>B</td>\n      <td>E</td>\n      <td>1.320000</td>\n      <td>0.471912</td>\n      <td>2.168088</td>\n      <td>6.622265</td>\n      <td>0.001000</td>\n    </tr>\n    <tr>\n      <th>8</th>\n      <td>B</td>\n      <td>F</td>\n      <td>0.533333</td>\n      <td>-0.314755</td>\n      <td>1.381421</td>\n      <td>2.675663</td>\n      <td>0.425189</td>\n    </tr>\n    <tr>\n      <th>9</th>\n      <td>C</td>\n      <td>D</td>\n      <td>0.173333</td>\n      <td>-0.674755</td>\n      <td>1.021421</td>\n      <td>0.869590</td>\n      <td>0.900000</td>\n    </tr>\n    <tr>\n      <th>10</th>\n      <td>C</td>\n      <td>E</td>\n      <td>2.013333</td>\n      <td>1.165245</td>\n      <td>2.861421</td>\n      <td>10.100626</td>\n      <td>0.001000</td>\n    </tr>\n    <tr>\n      <th>11</th>\n      <td>C</td>\n      <td>F</td>\n      <td>0.160000</td>\n      <td>-0.688088</td>\n      <td>1.008088</td>\n      <td>0.802699</td>\n      <td>0.900000</td>\n    </tr>\n    <tr>\n      <th>12</th>\n      <td>D</td>\n      <td>E</td>\n      <td>1.840000</td>\n      <td>0.991912</td>\n      <td>2.688088</td>\n      <td>9.231036</td>\n      <td>0.001000</td>\n    </tr>\n    <tr>\n      <th>13</th>\n      <td>D</td>\n      <td>F</td>\n      <td>0.013333</td>\n      <td>-0.834755</td>\n      <td>0.861421</td>\n      <td>0.066892</td>\n      <td>0.900000</td>\n    </tr>\n    <tr>\n      <th>14</th>\n      <td>E</td>\n      <td>F</td>\n      <td>1.853333</td>\n      <td>1.005245</td>\n      <td>2.701421</td>\n      <td>9.297928</td>\n      <td>0.001000</td>\n    </tr>\n  </tbody>\n</table>\n</div>"
     },
     "execution_count": 41,
     "metadata": {},
     "output_type": "execute_result"
    }
   ],
   "source": [
    "from bioinfokit.analys import stat\n",
    "\n",
    "res = stat()\n",
    "res.tukey_hsd(df=d_melt, res_var='value', xfac_var='Genotype', anova_model='value~C(Genotype)+C(years)+C(Genotype):C(years)')\n",
    "res.tukey_summary"
   ],
   "metadata": {
    "collapsed": false,
    "pycharm": {
     "name": "#%%\n"
    }
   }
  },
  {
   "cell_type": "code",
   "execution_count": 42,
   "outputs": [
    {
     "data": {
      "text/plain": "   group1  group2      Diff     Lower     Upper    q-value  p-value\n0  1_year  2_year  2.146667  1.659513  2.633821  15.230432    0.001\n1  1_year  3_year  5.521667  5.034513  6.008821  39.175794    0.001\n2  2_year  3_year  3.375000  2.887846  3.862154  23.945361    0.001",
      "text/html": "<div>\n<style scoped>\n    .dataframe tbody tr th:only-of-type {\n        vertical-align: middle;\n    }\n\n    .dataframe tbody tr th {\n        vertical-align: top;\n    }\n\n    .dataframe thead th {\n        text-align: right;\n    }\n</style>\n<table border=\"1\" class=\"dataframe\">\n  <thead>\n    <tr style=\"text-align: right;\">\n      <th></th>\n      <th>group1</th>\n      <th>group2</th>\n      <th>Diff</th>\n      <th>Lower</th>\n      <th>Upper</th>\n      <th>q-value</th>\n      <th>p-value</th>\n    </tr>\n  </thead>\n  <tbody>\n    <tr>\n      <th>0</th>\n      <td>1_year</td>\n      <td>2_year</td>\n      <td>2.146667</td>\n      <td>1.659513</td>\n      <td>2.633821</td>\n      <td>15.230432</td>\n      <td>0.001</td>\n    </tr>\n    <tr>\n      <th>1</th>\n      <td>1_year</td>\n      <td>3_year</td>\n      <td>5.521667</td>\n      <td>5.034513</td>\n      <td>6.008821</td>\n      <td>39.175794</td>\n      <td>0.001</td>\n    </tr>\n    <tr>\n      <th>2</th>\n      <td>2_year</td>\n      <td>3_year</td>\n      <td>3.375000</td>\n      <td>2.887846</td>\n      <td>3.862154</td>\n      <td>23.945361</td>\n      <td>0.001</td>\n    </tr>\n  </tbody>\n</table>\n</div>"
     },
     "execution_count": 42,
     "metadata": {},
     "output_type": "execute_result"
    }
   ],
   "source": [
    "# for main effect years\n",
    "res.tukey_hsd(df=d_melt, res_var='value', xfac_var='years', anova_model='value ~ C(Genotype) + C(years) + C(Genotype):C(years)')\n",
    "res.tukey_summary"
   ],
   "metadata": {
    "collapsed": false,
    "pycharm": {
     "name": "#%%\n"
    }
   }
  },
  {
   "cell_type": "code",
   "execution_count": 43,
   "outputs": [
    {
     "data": {
      "text/plain": "        group1       group2  Diff     Lower     Upper    q-value   p-value\n0  (A, 1_year)  (A, 2_year)  2.38  0.548861  4.211139   6.893646  0.002439\n1  (A, 1_year)  (A, 3_year)  4.75  2.918861  6.581139  13.758326  0.001000\n2  (A, 1_year)  (B, 1_year)  1.94  0.108861  3.771139   5.619190  0.028673\n3  (A, 1_year)  (B, 2_year)  4.41  2.578861  6.241139  12.773520  0.001000\n4  (A, 1_year)  (B, 3_year)  6.90  5.068861  8.731139  19.985779  0.001000",
      "text/html": "<div>\n<style scoped>\n    .dataframe tbody tr th:only-of-type {\n        vertical-align: middle;\n    }\n\n    .dataframe tbody tr th {\n        vertical-align: top;\n    }\n\n    .dataframe thead th {\n        text-align: right;\n    }\n</style>\n<table border=\"1\" class=\"dataframe\">\n  <thead>\n    <tr style=\"text-align: right;\">\n      <th></th>\n      <th>group1</th>\n      <th>group2</th>\n      <th>Diff</th>\n      <th>Lower</th>\n      <th>Upper</th>\n      <th>q-value</th>\n      <th>p-value</th>\n    </tr>\n  </thead>\n  <tbody>\n    <tr>\n      <th>0</th>\n      <td>(A, 1_year)</td>\n      <td>(A, 2_year)</td>\n      <td>2.38</td>\n      <td>0.548861</td>\n      <td>4.211139</td>\n      <td>6.893646</td>\n      <td>0.002439</td>\n    </tr>\n    <tr>\n      <th>1</th>\n      <td>(A, 1_year)</td>\n      <td>(A, 3_year)</td>\n      <td>4.75</td>\n      <td>2.918861</td>\n      <td>6.581139</td>\n      <td>13.758326</td>\n      <td>0.001000</td>\n    </tr>\n    <tr>\n      <th>2</th>\n      <td>(A, 1_year)</td>\n      <td>(B, 1_year)</td>\n      <td>1.94</td>\n      <td>0.108861</td>\n      <td>3.771139</td>\n      <td>5.619190</td>\n      <td>0.028673</td>\n    </tr>\n    <tr>\n      <th>3</th>\n      <td>(A, 1_year)</td>\n      <td>(B, 2_year)</td>\n      <td>4.41</td>\n      <td>2.578861</td>\n      <td>6.241139</td>\n      <td>12.773520</td>\n      <td>0.001000</td>\n    </tr>\n    <tr>\n      <th>4</th>\n      <td>(A, 1_year)</td>\n      <td>(B, 3_year)</td>\n      <td>6.90</td>\n      <td>5.068861</td>\n      <td>8.731139</td>\n      <td>19.985779</td>\n      <td>0.001000</td>\n    </tr>\n  </tbody>\n</table>\n</div>"
     },
     "execution_count": 43,
     "metadata": {},
     "output_type": "execute_result"
    }
   ],
   "source": [
    "res.tukey_hsd(df=d_melt, res_var='value', xfac_var=['Genotype','years'], anova_model='value ~ C(Genotype) + C(years) + C(Genotype):C(years)')\n",
    "res.tukey_summary.head()"
   ],
   "metadata": {
    "collapsed": false,
    "pycharm": {
     "name": "#%%\n"
    }
   }
  },
  {
   "cell_type": "code",
   "execution_count": 45,
   "outputs": [
    {
     "data": {
      "text/plain": "<Figure size 432x288 with 1 Axes>",
      "image/png": "[encoded data removed]"
     },
     "metadata": {
      "needs_background": "light"
     },
     "output_type": "display_data"
    },
    {
     "data": {
      "text/plain": "<Figure size 432x288 with 1 Axes>",
      "image/png": "[encoded data removed]"
     },
     "metadata": {
      "needs_background": "light"
     },
     "output_type": "display_data"
    }
   ],
   "source": [
    "# res.anova_std_residuals are standardized residuals obtained from two-way ANOVA (check above)\n",
    "sm.qqplot(res.anova_std_residuals, line='45')\n",
    "plt.xlabel(\"Theoretical Quantiles\")\n",
    "plt.ylabel(\"Standardized Residuals\")\n",
    "plt.show()\n",
    "\n",
    "# histogram\n",
    "plt.hist(res.anova_model_out.resid, bins='auto', histtype='bar', ec='k')\n",
    "plt.xlabel(\"Residuals\")\n",
    "plt.ylabel('Frequency')\n",
    "plt.show()"
   ],
   "metadata": {
    "collapsed": false,
    "pycharm": {
     "name": "#%%\n"
    }
   }
  },
  {
   "cell_type": "code",
   "execution_count": 46,
   "outputs": [
    {
     "name": "stdout",
     "output_type": "stream",
     "text": [
      "0.8978845477104187 0.00023986827000044286\n"
     ]
    }
   ],
   "source": [
    "# Shapiro-Wilk test\n",
    "w, pvalue = stats.shapiro(res.anova_model_out.resid)\n",
    "print(w, pvalue)"
   ],
   "metadata": {
    "collapsed": false,
    "pycharm": {
     "name": "#%%\n"
    }
   }
  },
  {
   "cell_type": "code",
   "execution_count": 47,
   "outputs": [
    {
     "data": {
      "text/plain": "                 Parameter    Value\n0      Test statistics (W)   1.6849\n1  Degrees of freedom (Df)  17.0000\n2                  p value   0.0927",
      "text/html": "<div>\n<style scoped>\n    .dataframe tbody tr th:only-of-type {\n        vertical-align: middle;\n    }\n\n    .dataframe tbody tr th {\n        vertical-align: top;\n    }\n\n    .dataframe thead th {\n        text-align: right;\n    }\n</style>\n<table border=\"1\" class=\"dataframe\">\n  <thead>\n    <tr style=\"text-align: right;\">\n      <th></th>\n      <th>Parameter</th>\n      <th>Value</th>\n    </tr>\n  </thead>\n  <tbody>\n    <tr>\n      <th>0</th>\n      <td>Test statistics (W)</td>\n      <td>1.6849</td>\n    </tr>\n    <tr>\n      <th>1</th>\n      <td>Degrees of freedom (Df)</td>\n      <td>17.0000</td>\n    </tr>\n    <tr>\n      <th>2</th>\n      <td>p value</td>\n      <td>0.0927</td>\n    </tr>\n  </tbody>\n</table>\n</div>"
     },
     "execution_count": 47,
     "metadata": {},
     "output_type": "execute_result"
    }
   ],
   "source": [
    "res = stat()\n",
    "res.levene(df=d_melt, res_var='value', xfac_var=['Genotype', 'years'])\n",
    "res.levene_summary"
   ],
   "metadata": {
    "collapsed": false,
    "pycharm": {
     "name": "#%%\n"
    }
   }
  },
  {
   "cell_type": "code",
   "execution_count": null,
   "outputs": [],
   "source": [],
   "metadata": {
    "collapsed": false,
    "pycharm": {
     "name": "#%%\n"
    }
   }
  }
 ],
 "metadata": {
  "kernelspec": {
   "display_name": "Python 3",
   "language": "python",
   "name": "python3"
  },
  "language_info": {
   "codemirror_mode": {
    "name": "ipython",
    "version": 2
   },
   "file_extension": ".py",
   "mimetype": "text/x-python",
   "name": "python",
   "nbconvert_exporter": "python",
   "pygments_lexer": "ipython2",
   "version": "2.7.6"
  }
 },
 "nbformat": 4,
 "nbformat_minor": 0
}